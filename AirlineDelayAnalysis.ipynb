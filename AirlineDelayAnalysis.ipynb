{
 "cells": [
  {
   "cell_type": "markdown",
   "metadata": {},
   "source": [
    "### 1. Business Understanding\n",
    "\n",
    "The dataset we will analyze here, consists of information about domestic flights operated by large airlines in the U.S. throughout 2008. It provides details about the schedule and delays of each flight. The data was originally  compiled and made available to the public by the Bureau of Transportation Statistics, but for our purposes we will use the version available at Kaggle: \n",
    "\n",
    "[https://www.kaggle.com/giovamata/airlinedelaycauses](https://www.kaggle.com/giovamata/airlinedelaycauses)\n",
    "\n",
    "Each record comprises details about a specific flight, such as its number, origin, destination, airline, scheduled timeline and actual timeline. Information about delays (deviations from the scheduled timeline) is particularly intersting, as it provides us with the opportunity to analyze how delays are related to other factors and how much are domestic flights affected. The results will hopefully provide insights useful to passengers.\n",
    "\n",
    "In view of the information at hand, we could consider digging for answers to the following questions:\n",
    "\n",
    "1. Which were the best and the worst carriers (airlines) regarding delays and cancellations in 2008?\n",
    "\n",
    "\n",
    "2. Can we identify months of the year 2008 when delays were particularly long?\n",
    "\n",
    "\n",
    "3. What were the major causes of delays affecting domestic flights in the U.S. in 2008?\n",
    "\n",
    "\n",
    "4. Can we build a model to estimate how much delay could be expected in a flight?\n",
    "\n",
    "\n",
    "The answers we arrive at will hopefully help passengers make more informed decisions in their travels and avoid the inconveniences of getting into a delayed flight. "
   ]
  },
  {
   "cell_type": "markdown",
   "metadata": {},
   "source": [
    "### 2. Data Understanding"
   ]
  },
  {
   "cell_type": "markdown",
   "metadata": {},
   "source": [
    "By invoking the info function on the DataFrame, we see that it contains 1936758 records and 30 variables:"
   ]
  },
  {
   "cell_type": "code",
   "execution_count": 1,
   "metadata": {},
   "outputs": [
    {
     "name": "stdout",
     "output_type": "stream",
     "text": [
      "Airline Delays. Records: 1936758, variables: 30\n",
      "<class 'pandas.core.frame.DataFrame'>\n",
      "RangeIndex: 1936758 entries, 0 to 1936757\n",
      "Data columns (total 30 columns):\n",
      "Unnamed: 0           int64\n",
      "Year                 int64\n",
      "Month                int64\n",
      "DayofMonth           int64\n",
      "DayOfWeek            int64\n",
      "DepTime              float64\n",
      "CRSDepTime           int64\n",
      "ArrTime              float64\n",
      "CRSArrTime           int64\n",
      "UniqueCarrier        object\n",
      "FlightNum            int64\n",
      "TailNum              object\n",
      "ActualElapsedTime    float64\n",
      "CRSElapsedTime       float64\n",
      "AirTime              float64\n",
      "ArrDelay             float64\n",
      "DepDelay             float64\n",
      "Origin               object\n",
      "Dest                 object\n",
      "Distance             int64\n",
      "TaxiIn               float64\n",
      "TaxiOut              float64\n",
      "Cancelled            int64\n",
      "CancellationCode     object\n",
      "Diverted             int64\n",
      "CarrierDelay         float64\n",
      "WeatherDelay         float64\n",
      "NASDelay             float64\n",
      "SecurityDelay        float64\n",
      "LateAircraftDelay    float64\n",
      "dtypes: float64(14), int64(11), object(5)\n",
      "memory usage: 443.3+ MB\n"
     ]
    }
   ],
   "source": [
    "import numpy as np\n",
    "import pandas as pd\n",
    "import matplotlib.pyplot as plt\n",
    "import seaborn as sns\n",
    "from sklearn.linear_model import LinearRegression\n",
    "from sklearn.model_selection import train_test_split\n",
    "from sklearn.preprocessing import StandardScaler\n",
    "from sklearn.svm import SVR\n",
    "from sklearn.metrics import r2_score\n",
    "import Utilities as util\n",
    "%matplotlib inline\n",
    "\n",
    "df_flight_delays = pd.read_csv(\"datasets/DelayedFlights.csv\")\n",
    "\n",
    "print(f\"Airline Delays. Records: {df_flight_delays.shape[0]}, variables: {df_flight_delays.shape[1]}\")\n",
    "\n",
    "# Get the size of the dataset, list of the variables with their types\n",
    "df_flight_delays.info()"
   ]
  },
  {
   "cell_type": "markdown",
   "metadata": {},
   "source": [
    "The following table provides a description and the type of each variable:\n",
    "\n",
    "Number | Name | Description | Type\n",
    ":------: | :---- | :---- | :----\n",
    "1 | (Unamed) | Sequential record number | Numerical, integer\n",
    "2 | Year | 2008 | Numerical, integer\n",
    "3 | Month | Month number (1=January - 12=December) | Numerical, integer\n",
    "4 | DayofMonth | Day number of the month (1 - 31) | Numerical, integer\n",
    "5 | DayOfWeek | Day number of the week (1=Monday - 7=Sunday) | Numerical, integer\n",
    "6 | DepTime | Actual departure time (local, hhmm) | Numerical, integer\n",
    "7 | CRSDepTime | Scheduled departure time (local, hhmm) | Numerical, integer\n",
    "8 | ArrTime | Actual arrival time (local, hhmm) | Numerical, integer\n",
    "9 | CRSArrTime | Scheduled arrival time (local, hhmm) | Numerical, integer\n",
    "10 | UniqueCarrier | Unique carrier code | Categorical, string\n",
    "11 | FlightNum | Flight number | Numerical, integer\n",
    "12 | TailNum | Plane tail number | Categorical, string\n",
    "13 | ActualElapsedTime | Actual total flight time, in minutes | Numerical, decimal\n",
    "14 | CRSElapsedTime | Total flight time estimated by the carrier, in minutes | Numerical, decimal\n",
    "15 | AirTime | Time in the air, in minutes | Numerical, decimal\n",
    "16 | ArrDelay | Delay to arrive at the destination airport, in minutes | Numerical, decimal\n",
    "17 | DepDelay | Delay to depart from the origin airport, in minutes | Numerical, decimal\n",
    "18 | Origin | Origin IATA airport code | Categorical, string\n",
    "19 | Dest | Destination IATA airport code | Categorical, string\n",
    "20 | Distance | Travel in miles | Numerical, integer\n",
    "21 | TaxiIn | Taxi in time (time to roll from the terminal to the runway), in minutes | Numerical, decimal\n",
    "22 | TaxiOut | Taxi out time (time to roll from the runway to the terminal) in minutes | Numerical, decimal\n",
    "23 | Cancelled | Was the flight cancelled? | Numerical, boolean\n",
    "24 | CancellationCode | Reason why flight was cancelled (A=carrier, B=weather, C=NAS, D=security) | Categorical, string\n",
    "25 | Diverted | Was the flight diverted to another destination? (1=yes, 0=no) | Numerical, integer\n",
    "26 | CarrierDelay | Delay caused by the carrier, in minutes | Numerical, decimal\n",
    "27 | WeatherDelay | Delay caused by the weather, in minutes | Numerical, decimal\n",
    "28 | NASDelay | Delay caused by the NAS (National Airspace System), in minutes | Numerical, decimal\n",
    "29 | SecurityDelay | Delay caused by security issues, in minutes | Numerical, decimal\n",
    "30 | LateAircraftDelay | Delay caused by the aircraft arriving late, in minutes | Numerical, decimal\n",
    "\n",
    "There are five categorical variables: UniqueCarrier, TailNum, Origin, Dest and CancellationCode. The rest are all numerical. However, when performing operations on DepTime, CRSDepTime, ArrTime and CRSArrTime we must bear in mind that these represent times in hour-minute format."
   ]
  },
  {
   "cell_type": "code",
   "execution_count": 2,
   "metadata": {},
   "outputs": [
    {
     "name": "stdout",
     "output_type": "stream",
     "text": [
      "Categorical variables: ['UniqueCarrier' 'TailNum' 'Origin' 'Dest' 'CancellationCode']\n"
     ]
    }
   ],
   "source": [
    "# Get the names of all categorical variables\n",
    "print(f\"Categorical variables: {df_flight_delays.select_dtypes(include=['object']).columns.values}\")"
   ]
  },
  {
   "cell_type": "markdown",
   "metadata": {},
   "source": [
    "##### 2.1 Summary statistics\n",
    "\n",
    "We get an overview of the variables we are interested in analyzing, by computing some summary statistics:"
   ]
  },
  {
   "cell_type": "code",
   "execution_count": 3,
   "metadata": {},
   "outputs": [
    {
     "data": {
      "text/html": [
       "<div>\n",
       "<style scoped>\n",
       "    .dataframe tbody tr th:only-of-type {\n",
       "        vertical-align: middle;\n",
       "    }\n",
       "\n",
       "    .dataframe tbody tr th {\n",
       "        vertical-align: top;\n",
       "    }\n",
       "\n",
       "    .dataframe thead th {\n",
       "        text-align: right;\n",
       "    }\n",
       "</style>\n",
       "<table border=\"1\" class=\"dataframe\">\n",
       "  <thead>\n",
       "    <tr style=\"text-align: right;\">\n",
       "      <th></th>\n",
       "      <th>ArrDelay</th>\n",
       "      <th>DepDelay</th>\n",
       "      <th>Cancelled</th>\n",
       "      <th>Diverted</th>\n",
       "    </tr>\n",
       "  </thead>\n",
       "  <tbody>\n",
       "    <tr>\n",
       "      <th>count</th>\n",
       "      <td>1.928371e+06</td>\n",
       "      <td>1.936758e+06</td>\n",
       "      <td>1.936758e+06</td>\n",
       "      <td>1.936758e+06</td>\n",
       "    </tr>\n",
       "    <tr>\n",
       "      <th>mean</th>\n",
       "      <td>4.219988e+01</td>\n",
       "      <td>4.318518e+01</td>\n",
       "      <td>3.268348e-04</td>\n",
       "      <td>4.003598e-03</td>\n",
       "    </tr>\n",
       "    <tr>\n",
       "      <th>std</th>\n",
       "      <td>5.678472e+01</td>\n",
       "      <td>5.340250e+01</td>\n",
       "      <td>1.807562e-02</td>\n",
       "      <td>6.314722e-02</td>\n",
       "    </tr>\n",
       "    <tr>\n",
       "      <th>min</th>\n",
       "      <td>-1.090000e+02</td>\n",
       "      <td>6.000000e+00</td>\n",
       "      <td>0.000000e+00</td>\n",
       "      <td>0.000000e+00</td>\n",
       "    </tr>\n",
       "    <tr>\n",
       "      <th>25%</th>\n",
       "      <td>9.000000e+00</td>\n",
       "      <td>1.200000e+01</td>\n",
       "      <td>0.000000e+00</td>\n",
       "      <td>0.000000e+00</td>\n",
       "    </tr>\n",
       "    <tr>\n",
       "      <th>50%</th>\n",
       "      <td>2.400000e+01</td>\n",
       "      <td>2.400000e+01</td>\n",
       "      <td>0.000000e+00</td>\n",
       "      <td>0.000000e+00</td>\n",
       "    </tr>\n",
       "    <tr>\n",
       "      <th>75%</th>\n",
       "      <td>5.600000e+01</td>\n",
       "      <td>5.300000e+01</td>\n",
       "      <td>0.000000e+00</td>\n",
       "      <td>0.000000e+00</td>\n",
       "    </tr>\n",
       "    <tr>\n",
       "      <th>95%</th>\n",
       "      <td>1.480000e+02</td>\n",
       "      <td>1.430000e+02</td>\n",
       "      <td>0.000000e+00</td>\n",
       "      <td>0.000000e+00</td>\n",
       "    </tr>\n",
       "    <tr>\n",
       "      <th>99%</th>\n",
       "      <td>2.560000e+02</td>\n",
       "      <td>2.490000e+02</td>\n",
       "      <td>0.000000e+00</td>\n",
       "      <td>0.000000e+00</td>\n",
       "    </tr>\n",
       "    <tr>\n",
       "      <th>max</th>\n",
       "      <td>2.461000e+03</td>\n",
       "      <td>2.467000e+03</td>\n",
       "      <td>1.000000e+00</td>\n",
       "      <td>1.000000e+00</td>\n",
       "    </tr>\n",
       "  </tbody>\n",
       "</table>\n",
       "</div>"
      ],
      "text/plain": [
       "           ArrDelay      DepDelay     Cancelled      Diverted\n",
       "count  1.928371e+06  1.936758e+06  1.936758e+06  1.936758e+06\n",
       "mean   4.219988e+01  4.318518e+01  3.268348e-04  4.003598e-03\n",
       "std    5.678472e+01  5.340250e+01  1.807562e-02  6.314722e-02\n",
       "min   -1.090000e+02  6.000000e+00  0.000000e+00  0.000000e+00\n",
       "25%    9.000000e+00  1.200000e+01  0.000000e+00  0.000000e+00\n",
       "50%    2.400000e+01  2.400000e+01  0.000000e+00  0.000000e+00\n",
       "75%    5.600000e+01  5.300000e+01  0.000000e+00  0.000000e+00\n",
       "95%    1.480000e+02  1.430000e+02  0.000000e+00  0.000000e+00\n",
       "99%    2.560000e+02  2.490000e+02  0.000000e+00  0.000000e+00\n",
       "max    2.461000e+03  2.467000e+03  1.000000e+00  1.000000e+00"
      ]
     },
     "execution_count": 3,
     "metadata": {},
     "output_type": "execute_result"
    }
   ],
   "source": [
    "# Variables we aim to draw conclusions about\n",
    "target_vars = [\"ArrDelay\", \"DepDelay\", \"Cancelled\", \"Diverted\"]\n",
    "\n",
    "# Compute summary statistics about these variables, including the 95th and 99th percentiles\n",
    "df_summary_stats = df_flight_delays[target_vars].describe(percentiles=[0.25, 0.5, 0.75, 0.95, 0.99])\n",
    "\n",
    "df_summary_stats"
   ]
  },
  {
   "cell_type": "markdown",
   "metadata": {},
   "source": [
    "The fact that the 99th percentile is at least an order of magnitude lower than the maximum, for both delay variables, suggests that these contain some heavy outliers. \n",
    "\n",
    "We verify this by assigning a value slightly above the 99th percentile to all outliers beyond that point and then plotting the results. This has the effect of \"compressing\" the most extreme outliers in a single spot, which in turn prevents the plots from becoming unreadable."
   ]
  },
  {
   "cell_type": "code",
   "execution_count": 4,
   "metadata": {},
   "outputs": [
    {
     "data": {
      "image/png": "[encoded data removed]",
      "text/plain": [
       "<Figure size 1296x432 with 2 Axes>"
      ]
     },
     "metadata": {
      "needs_background": "light"
     },
     "output_type": "display_data"
    }
   ],
   "source": [
    "def plot_variable(var, fig_axis):\n",
    "    \"\"\"\n",
    "    Adds a histogram to a figure axis of the plot, depicting the specified variable\n",
    "    INPUT\n",
    "        var - name of the variable to be plotted\n",
    "        fig_axis - axies of the figure \n",
    "    OUTPUT\n",
    "        adds histogram of variable var as a subplot\n",
    "    \"\"\"\n",
    "    # Value of the 99th percentile\n",
    "    outlier_lim = df_summary_stats[var][\"99%\"]\n",
    "    \n",
    "    # Assign a value slightly higher than the 99th percentile to all observations that surpass that limit\n",
    "    compressed_outls = df_flight_delays[var].transform(lambda v: v if v <= outlier_lim else (outlier_lim + 10))\n",
    "    \n",
    "    fig_axis.hist(compressed_outls, bins=30)\n",
    "    fig_axis.set_title(var)\n",
    "\n",
    "# Create a figure containing two plots\n",
    "fig1 = plt.figure(figsize=(18, 6))\n",
    "axes = fig1.subplots(nrows=1, ncols=2)\n",
    "\n",
    "# Plot a histogram for arrival delays and departure delays into the figure\n",
    "for ix, var in enumerate([\"ArrDelay\", \"DepDelay\"]):\n",
    "    plot_variable(var, axes[ix])\n",
    "\n",
    "plt.show()"
   ]
  },
  {
   "cell_type": "markdown",
   "metadata": {},
   "source": [
    "In both histograms the last bar represents the outliers greater than the 99th percentile. As we suspected, there are a very few of them. However, we have to keep in mind these extreme values when using models sensitive to outliers. We can also notice that both of our target variables are considerably right-skewed. \n",
    "\n",
    "The summary statistics also confirm that variables Cancelled and Diverted are boolean, even though they are stored as decimal numbers."
   ]
  },
  {
   "cell_type": "markdown",
   "metadata": {},
   "source": [
    "### 3. Data Preparation\n",
    "\n",
    "Now we will examine the data in search for errors and inconsistencies and modify it as necessary to facilitate further analysis.\n",
    "\n",
    "Note that the first variable (Unamed: 0) just enumerates the rows. It can be safely discarded as it doesn't  provide any useful information. We can also drop the variable Year, as all observations are of the same year (2008) in this version of the dataset."
   ]
  },
  {
   "cell_type": "code",
   "execution_count": 5,
   "metadata": {},
   "outputs": [],
   "source": [
    "# Drop the first column, which just provides enumerates the rows. The DataFrame index does so already\n",
    "df_flight_delays.drop([\"Unnamed: 0\", \"Year\"], axis=1, inplace=True)"
   ]
  },
  {
   "cell_type": "markdown",
   "metadata": {},
   "source": [
    "Now let's check for missing values. We start by counting how many we have in each variable:"
   ]
  },
  {
   "cell_type": "code",
   "execution_count": 6,
   "metadata": {},
   "outputs": [
    {
     "data": {
      "text/html": [
       "<div>\n",
       "<style scoped>\n",
       "    .dataframe tbody tr th:only-of-type {\n",
       "        vertical-align: middle;\n",
       "    }\n",
       "\n",
       "    .dataframe tbody tr th {\n",
       "        vertical-align: top;\n",
       "    }\n",
       "\n",
       "    .dataframe thead th {\n",
       "        text-align: right;\n",
       "    }\n",
       "</style>\n",
       "<table border=\"1\" class=\"dataframe\">\n",
       "  <thead>\n",
       "    <tr style=\"text-align: right;\">\n",
       "      <th></th>\n",
       "      <th># Missing</th>\n",
       "      <th>% Missing</th>\n",
       "    </tr>\n",
       "  </thead>\n",
       "  <tbody>\n",
       "    <tr>\n",
       "      <th>Month</th>\n",
       "      <td>0</td>\n",
       "      <td>0.000000</td>\n",
       "    </tr>\n",
       "    <tr>\n",
       "      <th>DayofMonth</th>\n",
       "      <td>0</td>\n",
       "      <td>0.000000</td>\n",
       "    </tr>\n",
       "    <tr>\n",
       "      <th>DayOfWeek</th>\n",
       "      <td>0</td>\n",
       "      <td>0.000000</td>\n",
       "    </tr>\n",
       "    <tr>\n",
       "      <th>DepTime</th>\n",
       "      <td>0</td>\n",
       "      <td>0.000000</td>\n",
       "    </tr>\n",
       "    <tr>\n",
       "      <th>CRSDepTime</th>\n",
       "      <td>0</td>\n",
       "      <td>0.000000</td>\n",
       "    </tr>\n",
       "    <tr>\n",
       "      <th>ArrTime</th>\n",
       "      <td>7110</td>\n",
       "      <td>0.367108</td>\n",
       "    </tr>\n",
       "    <tr>\n",
       "      <th>CRSArrTime</th>\n",
       "      <td>0</td>\n",
       "      <td>0.000000</td>\n",
       "    </tr>\n",
       "    <tr>\n",
       "      <th>UniqueCarrier</th>\n",
       "      <td>0</td>\n",
       "      <td>0.000000</td>\n",
       "    </tr>\n",
       "    <tr>\n",
       "      <th>FlightNum</th>\n",
       "      <td>0</td>\n",
       "      <td>0.000000</td>\n",
       "    </tr>\n",
       "    <tr>\n",
       "      <th>TailNum</th>\n",
       "      <td>5</td>\n",
       "      <td>0.000258</td>\n",
       "    </tr>\n",
       "    <tr>\n",
       "      <th>ActualElapsedTime</th>\n",
       "      <td>8387</td>\n",
       "      <td>0.433043</td>\n",
       "    </tr>\n",
       "    <tr>\n",
       "      <th>CRSElapsedTime</th>\n",
       "      <td>198</td>\n",
       "      <td>0.010223</td>\n",
       "    </tr>\n",
       "    <tr>\n",
       "      <th>AirTime</th>\n",
       "      <td>8387</td>\n",
       "      <td>0.433043</td>\n",
       "    </tr>\n",
       "    <tr>\n",
       "      <th>ArrDelay</th>\n",
       "      <td>8387</td>\n",
       "      <td>0.433043</td>\n",
       "    </tr>\n",
       "    <tr>\n",
       "      <th>DepDelay</th>\n",
       "      <td>0</td>\n",
       "      <td>0.000000</td>\n",
       "    </tr>\n",
       "    <tr>\n",
       "      <th>Origin</th>\n",
       "      <td>0</td>\n",
       "      <td>0.000000</td>\n",
       "    </tr>\n",
       "    <tr>\n",
       "      <th>Dest</th>\n",
       "      <td>0</td>\n",
       "      <td>0.000000</td>\n",
       "    </tr>\n",
       "    <tr>\n",
       "      <th>Distance</th>\n",
       "      <td>0</td>\n",
       "      <td>0.000000</td>\n",
       "    </tr>\n",
       "    <tr>\n",
       "      <th>TaxiIn</th>\n",
       "      <td>7110</td>\n",
       "      <td>0.367108</td>\n",
       "    </tr>\n",
       "    <tr>\n",
       "      <th>TaxiOut</th>\n",
       "      <td>455</td>\n",
       "      <td>0.023493</td>\n",
       "    </tr>\n",
       "    <tr>\n",
       "      <th>Cancelled</th>\n",
       "      <td>0</td>\n",
       "      <td>0.000000</td>\n",
       "    </tr>\n",
       "    <tr>\n",
       "      <th>CancellationCode</th>\n",
       "      <td>0</td>\n",
       "      <td>0.000000</td>\n",
       "    </tr>\n",
       "    <tr>\n",
       "      <th>Diverted</th>\n",
       "      <td>0</td>\n",
       "      <td>0.000000</td>\n",
       "    </tr>\n",
       "    <tr>\n",
       "      <th>CarrierDelay</th>\n",
       "      <td>689270</td>\n",
       "      <td>35.588855</td>\n",
       "    </tr>\n",
       "    <tr>\n",
       "      <th>WeatherDelay</th>\n",
       "      <td>689270</td>\n",
       "      <td>35.588855</td>\n",
       "    </tr>\n",
       "    <tr>\n",
       "      <th>NASDelay</th>\n",
       "      <td>689270</td>\n",
       "      <td>35.588855</td>\n",
       "    </tr>\n",
       "    <tr>\n",
       "      <th>SecurityDelay</th>\n",
       "      <td>689270</td>\n",
       "      <td>35.588855</td>\n",
       "    </tr>\n",
       "    <tr>\n",
       "      <th>LateAircraftDelay</th>\n",
       "      <td>689270</td>\n",
       "      <td>35.588855</td>\n",
       "    </tr>\n",
       "  </tbody>\n",
       "</table>\n",
       "</div>"
      ],
      "text/plain": [
       "                   # Missing  % Missing\n",
       "Month                      0   0.000000\n",
       "DayofMonth                 0   0.000000\n",
       "DayOfWeek                  0   0.000000\n",
       "DepTime                    0   0.000000\n",
       "CRSDepTime                 0   0.000000\n",
       "ArrTime                 7110   0.367108\n",
       "CRSArrTime                 0   0.000000\n",
       "UniqueCarrier              0   0.000000\n",
       "FlightNum                  0   0.000000\n",
       "TailNum                    5   0.000258\n",
       "ActualElapsedTime       8387   0.433043\n",
       "CRSElapsedTime           198   0.010223\n",
       "AirTime                 8387   0.433043\n",
       "ArrDelay                8387   0.433043\n",
       "DepDelay                   0   0.000000\n",
       "Origin                     0   0.000000\n",
       "Dest                       0   0.000000\n",
       "Distance                   0   0.000000\n",
       "TaxiIn                  7110   0.367108\n",
       "TaxiOut                  455   0.023493\n",
       "Cancelled                  0   0.000000\n",
       "CancellationCode           0   0.000000\n",
       "Diverted                   0   0.000000\n",
       "CarrierDelay          689270  35.588855\n",
       "WeatherDelay          689270  35.588855\n",
       "NASDelay              689270  35.588855\n",
       "SecurityDelay         689270  35.588855\n",
       "LateAircraftDelay     689270  35.588855"
      ]
     },
     "execution_count": 6,
     "metadata": {},
     "output_type": "execute_result"
    }
   ],
   "source": [
    "# Count total and percentage of missing values in each variable of the dataset\n",
    "util.build_nan_data(df_flight_delays)"
   ]
  },
  {
   "cell_type": "markdown",
   "metadata": {},
   "source": [
    "Since several of our questions are concerned with the schedule of flights, the variables ArrTime, ActualElapsedTime, CRSElapsedTime, AirTime, ArrDelay, TaxiIn, TaxiOut, CarrierDelay, WeatherDelay, NASDelay, SecurityDelay and LateAircraftDelay are particularly important. Hence, we should examine the missing values they contain and handle them the best we can.\n",
    "\n",
    "##### 3.1 Flights with missing ArrTime\n",
    "\n",
    "Taking a look at some of the flights that have missing ArrTime values, it appears that all of them are either cancelled or diverted."
   ]
  },
  {
   "cell_type": "code",
   "execution_count": 7,
   "metadata": {},
   "outputs": [
    {
     "data": {
      "text/html": [
       "<div>\n",
       "<style scoped>\n",
       "    .dataframe tbody tr th:only-of-type {\n",
       "        vertical-align: middle;\n",
       "    }\n",
       "\n",
       "    .dataframe tbody tr th {\n",
       "        vertical-align: top;\n",
       "    }\n",
       "\n",
       "    .dataframe thead th {\n",
       "        text-align: right;\n",
       "    }\n",
       "</style>\n",
       "<table border=\"1\" class=\"dataframe\">\n",
       "  <thead>\n",
       "    <tr style=\"text-align: right;\">\n",
       "      <th></th>\n",
       "      <th>Cancelled</th>\n",
       "      <th>Diverted</th>\n",
       "    </tr>\n",
       "  </thead>\n",
       "  <tbody>\n",
       "    <tr>\n",
       "      <th>1280</th>\n",
       "      <td>0</td>\n",
       "      <td>1</td>\n",
       "    </tr>\n",
       "    <tr>\n",
       "      <th>1372</th>\n",
       "      <td>0</td>\n",
       "      <td>1</td>\n",
       "    </tr>\n",
       "    <tr>\n",
       "      <th>1776</th>\n",
       "      <td>0</td>\n",
       "      <td>1</td>\n",
       "    </tr>\n",
       "    <tr>\n",
       "      <th>1831</th>\n",
       "      <td>0</td>\n",
       "      <td>1</td>\n",
       "    </tr>\n",
       "    <tr>\n",
       "      <th>2244</th>\n",
       "      <td>0</td>\n",
       "      <td>1</td>\n",
       "    </tr>\n",
       "    <tr>\n",
       "      <th>2245</th>\n",
       "      <td>0</td>\n",
       "      <td>1</td>\n",
       "    </tr>\n",
       "    <tr>\n",
       "      <th>2720</th>\n",
       "      <td>0</td>\n",
       "      <td>1</td>\n",
       "    </tr>\n",
       "    <tr>\n",
       "      <th>2831</th>\n",
       "      <td>0</td>\n",
       "      <td>1</td>\n",
       "    </tr>\n",
       "    <tr>\n",
       "      <th>3075</th>\n",
       "      <td>0</td>\n",
       "      <td>1</td>\n",
       "    </tr>\n",
       "    <tr>\n",
       "      <th>3179</th>\n",
       "      <td>0</td>\n",
       "      <td>1</td>\n",
       "    </tr>\n",
       "  </tbody>\n",
       "</table>\n",
       "</div>"
      ],
      "text/plain": [
       "      Cancelled  Diverted\n",
       "1280          0         1\n",
       "1372          0         1\n",
       "1776          0         1\n",
       "1831          0         1\n",
       "2244          0         1\n",
       "2245          0         1\n",
       "2720          0         1\n",
       "2831          0         1\n",
       "3075          0         1\n",
       "3179          0         1"
      ]
     },
     "execution_count": 7,
     "metadata": {},
     "output_type": "execute_result"
    }
   ],
   "source": [
    "# Get flights that have ArrTime missing and print the first 5\n",
    "df_missing_arrtime = df_flight_delays[df_flight_delays[\"ArrTime\"].isna()]\n",
    "df_missing_arrtime[[\"Cancelled\", \"Diverted\"]].head(10)"
   ]
  },
  {
   "cell_type": "markdown",
   "metadata": {},
   "source": [
    "We can verify if that's really the case by counting how many of such flights are actually cancelled or diverted."
   ]
  },
  {
   "cell_type": "code",
   "execution_count": 8,
   "metadata": {},
   "outputs": [
    {
     "name": "stdout",
     "output_type": "stream",
     "text": [
      "Total missing ArrTime: 7110. Cancelled/Diverted: 7110\n"
     ]
    }
   ],
   "source": [
    "# Count how many of the flights missing ArrTime were also cancelled or diverted\n",
    "total_missing_arrtime_diverted_or_cancelled = sum((df_missing_arrtime[\"Cancelled\"] == 1.0) | \n",
    "                                                  (df_missing_arrtime[\"Diverted\"] == 1.0))\n",
    "\n",
    "print(f\"Total missing ArrTime: {df_missing_arrtime.shape[0]}. Cancelled/Diverted: {total_missing_arrtime_diverted_or_cancelled}\")"
   ]
  },
  {
   "cell_type": "markdown",
   "metadata": {},
   "source": [
    "This means that the dataset does not provide arrival times for flights that were cancelled or diverted, which intuitively makes sense."
   ]
  },
  {
   "cell_type": "markdown",
   "metadata": {},
   "source": [
    "##### 3.2 Flights with missing ActualElapsedTime, AirTime and ArrDelay\n",
    "\n",
    "Interestingly, these three variables have the same number of missing values. This suggests that if a flight is missing the value of any of them, it's actually missing the values of all three. We can easily verify this by comparing how many rows have all vs. any of these variables missing."
   ]
  },
  {
   "cell_type": "code",
   "execution_count": 9,
   "metadata": {},
   "outputs": [
    {
     "name": "stdout",
     "output_type": "stream",
     "text": [
      "Total missing all ActualElapsedTime, AirTime and ArrDelay: 8387. Total missing any: 8387\n"
     ]
    }
   ],
   "source": [
    "# Get rows with missing values in any of the variables ActualElapsedTime, AirTime or ArrDelay\n",
    "df_missing_any_3 = df_flight_delays[(df_flight_delays[\"ActualElapsedTime\"].isna()) |\n",
    "                                  (df_flight_delays[\"AirTime\"].isna()) |\n",
    "                                  (df_flight_delays[\"ArrDelay\"].isna()) | df_flight_delays[\"AirTime\"].isna()]\n",
    "\n",
    "# Get rows with missing values in all of the variables ActualElapsedTime, AirTime and ArrDelay\n",
    "df_missing_all_3 = df_flight_delays[(df_flight_delays[\"ActualElapsedTime\"].isna()) &\n",
    "                                  (df_flight_delays[\"AirTime\"].isna()) &\n",
    "                                  (df_flight_delays[\"ArrDelay\"].isna()) & df_flight_delays[\"AirTime\"].isna()]\n",
    "\n",
    "print(f\"Total missing all ActualElapsedTime, AirTime and ArrDelay: {df_missing_all_3.shape[0]}. Total missing any: {df_missing_any_3.shape[0]}\")"
   ]
  },
  {
   "cell_type": "markdown",
   "metadata": {},
   "source": [
    "Moreover, by inspecting the rows we see that apparently, all these flights were either cancelled or diverted too. We verify this hunch by counting how many of the flights missing ActualElapsedTime, AirTime and ArrDelay were actually cancelled or diverted. "
   ]
  },
  {
   "cell_type": "code",
   "execution_count": 10,
   "metadata": {},
   "outputs": [
    {
     "name": "stdout",
     "output_type": "stream",
     "text": [
      "Were all flights missing ActualElapsedTime, AirTime and ArrDelay cancelled or diverted? True\n",
      "Total flights cancelled or diverted: 8387\n"
     ]
    }
   ],
   "source": [
    "# Count all flights missing the 3 variables and how many among them were either cancelled or diverted\n",
    "total_missing_3 = df_missing_any_3.shape[0]\n",
    "total_missing_3_cld_dvrt = sum((df_missing_any_3[\"Cancelled\"] == 1.0) | (df_missing_any_3[\"Diverted\"] == 1.0))\n",
    "\n",
    "# If these counts are equal, then all flights missing the 3 variables were either cancelled or diverted\n",
    "were_all_missing_3_cld_dvrt = (total_missing_3 == total_missing_3_cld_dvrt)\n",
    "\n",
    "print(f\"Were all flights missing ActualElapsedTime, AirTime and ArrDelay cancelled or diverted? {were_all_missing_3_cld_dvrt}\")\n",
    "\n",
    "# Count how many flights in total were either cancelled or diverted\n",
    "total_cld_dvrt = sum((df_flight_delays[\"Cancelled\"] == 1.0) | (df_flight_delays[\"Diverted\"] == 1.0))\n",
    "\n",
    "print(f\"Total flights cancelled or diverted: {total_cld_dvrt}\")"
   ]
  },
  {
   "cell_type": "markdown",
   "metadata": {},
   "source": [
    "From 3.1 and 3.2, we conclude that all flights that failed to bring passengers to their intended destination (i.e. flights that were either cancelled or diverted), have missing values for ActualElapsedTime, AirTime and ArrDelay. Furthermore, most of these flights (7110 out of 8387) have missing values for ArrTime. \n",
    "\n",
    "On the one hand, these variables are crucial for analyzing delays and durations of successful flights. On the other hand they are not useful in the analysis of failed flights. Therefore, it makes sense to split the dataset in two groups:\n",
    "\n",
    "- _Successful flights:_ not cancelled nor diverted. Brought passengers to the intended destination. Have complete  information about delays.\n",
    "- _Failed flights:_ cancelled or diverted. Failed to bring passengers to the intended destination. Have no information about delays.\n",
    "\n",
    "In this way, we get a dataset with no values missing for these important variables. Analyzing this dataset of successful flights separately from the dataset of failed flights is easier and less prone to errors."
   ]
  },
  {
   "cell_type": "code",
   "execution_count": 11,
   "metadata": {},
   "outputs": [
    {
     "name": "stdout",
     "output_type": "stream",
     "text": [
      "Total flights: 1936758. Successful: 1928371. Failed: 8387\n"
     ]
    }
   ],
   "source": [
    "# Split dataset in successful and failed flights \n",
    "df_success_flights = df_flight_delays[(df_flight_delays[\"Cancelled\"] == 0.0) & (df_flight_delays[\"Diverted\"] == 0.0)].copy()\n",
    "df_failed_flights = df_flight_delays[(df_flight_delays[\"Cancelled\"] == 1.0) | (df_flight_delays[\"Diverted\"] == 1.0)].copy()\n",
    "\n",
    "print(f\"Total flights: {df_flight_delays.shape[0]}. Successful: {df_success_flights.shape[0]}. Failed: {df_failed_flights.shape[0]}\")"
   ]
  },
  {
   "cell_type": "markdown",
   "metadata": {},
   "source": [
    "##### 3.3 Missing values in successful flights\n",
    "\n",
    "Let's now take a look at the missing values that remain in the dataset of successful flights."
   ]
  },
  {
   "cell_type": "code",
   "execution_count": 12,
   "metadata": {},
   "outputs": [
    {
     "data": {
      "text/html": [
       "<div>\n",
       "<style scoped>\n",
       "    .dataframe tbody tr th:only-of-type {\n",
       "        vertical-align: middle;\n",
       "    }\n",
       "\n",
       "    .dataframe tbody tr th {\n",
       "        vertical-align: top;\n",
       "    }\n",
       "\n",
       "    .dataframe thead th {\n",
       "        text-align: right;\n",
       "    }\n",
       "</style>\n",
       "<table border=\"1\" class=\"dataframe\">\n",
       "  <thead>\n",
       "    <tr style=\"text-align: right;\">\n",
       "      <th></th>\n",
       "      <th># Missing</th>\n",
       "      <th>% Missing</th>\n",
       "    </tr>\n",
       "  </thead>\n",
       "  <tbody>\n",
       "    <tr>\n",
       "      <th>Month</th>\n",
       "      <td>0</td>\n",
       "      <td>0.000000</td>\n",
       "    </tr>\n",
       "    <tr>\n",
       "      <th>DayofMonth</th>\n",
       "      <td>0</td>\n",
       "      <td>0.000000</td>\n",
       "    </tr>\n",
       "    <tr>\n",
       "      <th>DayOfWeek</th>\n",
       "      <td>0</td>\n",
       "      <td>0.000000</td>\n",
       "    </tr>\n",
       "    <tr>\n",
       "      <th>DepTime</th>\n",
       "      <td>0</td>\n",
       "      <td>0.000000</td>\n",
       "    </tr>\n",
       "    <tr>\n",
       "      <th>CRSDepTime</th>\n",
       "      <td>0</td>\n",
       "      <td>0.000000</td>\n",
       "    </tr>\n",
       "    <tr>\n",
       "      <th>ArrTime</th>\n",
       "      <td>0</td>\n",
       "      <td>0.000000</td>\n",
       "    </tr>\n",
       "    <tr>\n",
       "      <th>CRSArrTime</th>\n",
       "      <td>0</td>\n",
       "      <td>0.000000</td>\n",
       "    </tr>\n",
       "    <tr>\n",
       "      <th>UniqueCarrier</th>\n",
       "      <td>0</td>\n",
       "      <td>0.000000</td>\n",
       "    </tr>\n",
       "    <tr>\n",
       "      <th>FlightNum</th>\n",
       "      <td>0</td>\n",
       "      <td>0.000000</td>\n",
       "    </tr>\n",
       "    <tr>\n",
       "      <th>TailNum</th>\n",
       "      <td>3</td>\n",
       "      <td>0.000156</td>\n",
       "    </tr>\n",
       "    <tr>\n",
       "      <th>ActualElapsedTime</th>\n",
       "      <td>0</td>\n",
       "      <td>0.000000</td>\n",
       "    </tr>\n",
       "    <tr>\n",
       "      <th>CRSElapsedTime</th>\n",
       "      <td>0</td>\n",
       "      <td>0.000000</td>\n",
       "    </tr>\n",
       "    <tr>\n",
       "      <th>AirTime</th>\n",
       "      <td>0</td>\n",
       "      <td>0.000000</td>\n",
       "    </tr>\n",
       "    <tr>\n",
       "      <th>ArrDelay</th>\n",
       "      <td>0</td>\n",
       "      <td>0.000000</td>\n",
       "    </tr>\n",
       "    <tr>\n",
       "      <th>DepDelay</th>\n",
       "      <td>0</td>\n",
       "      <td>0.000000</td>\n",
       "    </tr>\n",
       "    <tr>\n",
       "      <th>Origin</th>\n",
       "      <td>0</td>\n",
       "      <td>0.000000</td>\n",
       "    </tr>\n",
       "    <tr>\n",
       "      <th>Dest</th>\n",
       "      <td>0</td>\n",
       "      <td>0.000000</td>\n",
       "    </tr>\n",
       "    <tr>\n",
       "      <th>Distance</th>\n",
       "      <td>0</td>\n",
       "      <td>0.000000</td>\n",
       "    </tr>\n",
       "    <tr>\n",
       "      <th>TaxiIn</th>\n",
       "      <td>0</td>\n",
       "      <td>0.000000</td>\n",
       "    </tr>\n",
       "    <tr>\n",
       "      <th>TaxiOut</th>\n",
       "      <td>0</td>\n",
       "      <td>0.000000</td>\n",
       "    </tr>\n",
       "    <tr>\n",
       "      <th>Cancelled</th>\n",
       "      <td>0</td>\n",
       "      <td>0.000000</td>\n",
       "    </tr>\n",
       "    <tr>\n",
       "      <th>CancellationCode</th>\n",
       "      <td>0</td>\n",
       "      <td>0.000000</td>\n",
       "    </tr>\n",
       "    <tr>\n",
       "      <th>Diverted</th>\n",
       "      <td>0</td>\n",
       "      <td>0.000000</td>\n",
       "    </tr>\n",
       "    <tr>\n",
       "      <th>CarrierDelay</th>\n",
       "      <td>680883</td>\n",
       "      <td>35.308714</td>\n",
       "    </tr>\n",
       "    <tr>\n",
       "      <th>WeatherDelay</th>\n",
       "      <td>680883</td>\n",
       "      <td>35.308714</td>\n",
       "    </tr>\n",
       "    <tr>\n",
       "      <th>NASDelay</th>\n",
       "      <td>680883</td>\n",
       "      <td>35.308714</td>\n",
       "    </tr>\n",
       "    <tr>\n",
       "      <th>SecurityDelay</th>\n",
       "      <td>680883</td>\n",
       "      <td>35.308714</td>\n",
       "    </tr>\n",
       "    <tr>\n",
       "      <th>LateAircraftDelay</th>\n",
       "      <td>680883</td>\n",
       "      <td>35.308714</td>\n",
       "    </tr>\n",
       "  </tbody>\n",
       "</table>\n",
       "</div>"
      ],
      "text/plain": [
       "                   # Missing  % Missing\n",
       "Month                      0   0.000000\n",
       "DayofMonth                 0   0.000000\n",
       "DayOfWeek                  0   0.000000\n",
       "DepTime                    0   0.000000\n",
       "CRSDepTime                 0   0.000000\n",
       "ArrTime                    0   0.000000\n",
       "CRSArrTime                 0   0.000000\n",
       "UniqueCarrier              0   0.000000\n",
       "FlightNum                  0   0.000000\n",
       "TailNum                    3   0.000156\n",
       "ActualElapsedTime          0   0.000000\n",
       "CRSElapsedTime             0   0.000000\n",
       "AirTime                    0   0.000000\n",
       "ArrDelay                   0   0.000000\n",
       "DepDelay                   0   0.000000\n",
       "Origin                     0   0.000000\n",
       "Dest                       0   0.000000\n",
       "Distance                   0   0.000000\n",
       "TaxiIn                     0   0.000000\n",
       "TaxiOut                    0   0.000000\n",
       "Cancelled                  0   0.000000\n",
       "CancellationCode           0   0.000000\n",
       "Diverted                   0   0.000000\n",
       "CarrierDelay          680883  35.308714\n",
       "WeatherDelay          680883  35.308714\n",
       "NASDelay              680883  35.308714\n",
       "SecurityDelay         680883  35.308714\n",
       "LateAircraftDelay     680883  35.308714"
      ]
     },
     "execution_count": 12,
     "metadata": {},
     "output_type": "execute_result"
    }
   ],
   "source": [
    "# Count total and percentage of values missing in variables of the successful flights dataset\n",
    "util.build_nan_data(df_success_flights)"
   ]
  },
  {
   "cell_type": "markdown",
   "metadata": {},
   "source": [
    "There are just three rows with missing TailNum values. This is an insignificant number of rows relative to the size of the dataset, so we can just drop them."
   ]
  },
  {
   "cell_type": "code",
   "execution_count": 13,
   "metadata": {},
   "outputs": [],
   "source": [
    "# Drop rows having missing values for the TailNum variable\n",
    "df_success_flights.dropna(subset=[\"TailNum\"], inplace=True)"
   ]
  },
  {
   "cell_type": "markdown",
   "metadata": {},
   "source": [
    "Alas, there are quite a lot of missing values in the categorized delay variables. Each of these variables, ArrDelay, CarrierDelay, WeatherDelay, NASDelay, SecurityDelay and LateAircraftDelay has 35.31% of their values missing. These variables provide information about the potential causes for a flight to be delayed and thus, may be very useful in our analysis. For this reason, we impute missing values in these variables as follows:\n",
    "\n",
    "- Firstly, we get all the flights having values for all the delay category variables.  "
   ]
  },
  {
   "cell_type": "code",
   "execution_count": 14,
   "metadata": {},
   "outputs": [
    {
     "name": "stdout",
     "output_type": "stream",
     "text": [
      "Total flights not missing delay information: 1247486\n"
     ]
    }
   ],
   "source": [
    "# In this part, we care only about delay-related variables\n",
    "df_all_delay_data = df_success_flights[[\"ArrDelay\", \"CarrierDelay\", \"WeatherDelay\", \"NASDelay\",\n",
    "                                        \"SecurityDelay\", \"LateAircraftDelay\"]]\n",
    "\n",
    "# Get flights that have complete information about delays\n",
    "df_flights_full_dly_data = df_all_delay_data[(df_success_flights[\"ArrDelay\"].isna() == False) &\n",
    "                                             (df_success_flights[\"CarrierDelay\"].isna() == False) &\n",
    "                                             (df_success_flights[\"WeatherDelay\"].isna() == False) &\n",
    "                                             (df_success_flights[\"NASDelay\"].isna() == False) &\n",
    "                                             (df_success_flights[\"SecurityDelay\"].isna() == False) &\n",
    "                                             (df_success_flights[\"LateAircraftDelay\"].isna() == False)]\n",
    "\n",
    "print(f\"Total flights not missing delay information: {df_flights_full_dly_data.shape[0]}\")"
   ]
  },
  {
   "cell_type": "markdown",
   "metadata": {},
   "source": [
    "- We use these rows to compute how each type of delay compares to the arrival delay, aggregated accross all these flights. To do so, we calculate the ratio of the aggregated delays of each type to the aggregated arrival delay. The resulting ratios can be used as weights, to split an arrival delay among the five delay types."
   ]
  },
  {
   "cell_type": "code",
   "execution_count": 15,
   "metadata": {},
   "outputs": [],
   "source": [
    "# Accumulate delays of each type and arrival delays for all flights with full delay information\n",
    "df_delay_totals = df_flights_full_dly_data.sum()\n",
    "\n",
    "# For the totals of each type of delay, compute the ratio to the total arrival delay\n",
    "df_dly_weights = df_delay_totals / df_delay_totals[\"ArrDelay\"]"
   ]
  },
  {
   "cell_type": "markdown",
   "metadata": {},
   "source": [
    "- Finally, we use these weights to impute the delays of each category, based on the arrival delay. We do so for flights missing values for the delay category variables."
   ]
  },
  {
   "cell_type": "code",
   "execution_count": 16,
   "metadata": {},
   "outputs": [
    {
     "data": {
      "text/html": [
       "<div>\n",
       "<style scoped>\n",
       "    .dataframe tbody tr th:only-of-type {\n",
       "        vertical-align: middle;\n",
       "    }\n",
       "\n",
       "    .dataframe tbody tr th {\n",
       "        vertical-align: top;\n",
       "    }\n",
       "\n",
       "    .dataframe thead th {\n",
       "        text-align: right;\n",
       "    }\n",
       "</style>\n",
       "<table border=\"1\" class=\"dataframe\">\n",
       "  <thead>\n",
       "    <tr style=\"text-align: right;\">\n",
       "      <th></th>\n",
       "      <th># Missing</th>\n",
       "      <th>% Missing</th>\n",
       "    </tr>\n",
       "  </thead>\n",
       "  <tbody>\n",
       "    <tr>\n",
       "      <th>Month</th>\n",
       "      <td>0</td>\n",
       "      <td>0.0</td>\n",
       "    </tr>\n",
       "    <tr>\n",
       "      <th>DayofMonth</th>\n",
       "      <td>0</td>\n",
       "      <td>0.0</td>\n",
       "    </tr>\n",
       "    <tr>\n",
       "      <th>DayOfWeek</th>\n",
       "      <td>0</td>\n",
       "      <td>0.0</td>\n",
       "    </tr>\n",
       "    <tr>\n",
       "      <th>DepTime</th>\n",
       "      <td>0</td>\n",
       "      <td>0.0</td>\n",
       "    </tr>\n",
       "    <tr>\n",
       "      <th>CRSDepTime</th>\n",
       "      <td>0</td>\n",
       "      <td>0.0</td>\n",
       "    </tr>\n",
       "    <tr>\n",
       "      <th>ArrTime</th>\n",
       "      <td>0</td>\n",
       "      <td>0.0</td>\n",
       "    </tr>\n",
       "    <tr>\n",
       "      <th>CRSArrTime</th>\n",
       "      <td>0</td>\n",
       "      <td>0.0</td>\n",
       "    </tr>\n",
       "    <tr>\n",
       "      <th>UniqueCarrier</th>\n",
       "      <td>0</td>\n",
       "      <td>0.0</td>\n",
       "    </tr>\n",
       "    <tr>\n",
       "      <th>FlightNum</th>\n",
       "      <td>0</td>\n",
       "      <td>0.0</td>\n",
       "    </tr>\n",
       "    <tr>\n",
       "      <th>TailNum</th>\n",
       "      <td>0</td>\n",
       "      <td>0.0</td>\n",
       "    </tr>\n",
       "    <tr>\n",
       "      <th>ActualElapsedTime</th>\n",
       "      <td>0</td>\n",
       "      <td>0.0</td>\n",
       "    </tr>\n",
       "    <tr>\n",
       "      <th>CRSElapsedTime</th>\n",
       "      <td>0</td>\n",
       "      <td>0.0</td>\n",
       "    </tr>\n",
       "    <tr>\n",
       "      <th>AirTime</th>\n",
       "      <td>0</td>\n",
       "      <td>0.0</td>\n",
       "    </tr>\n",
       "    <tr>\n",
       "      <th>ArrDelay</th>\n",
       "      <td>0</td>\n",
       "      <td>0.0</td>\n",
       "    </tr>\n",
       "    <tr>\n",
       "      <th>DepDelay</th>\n",
       "      <td>0</td>\n",
       "      <td>0.0</td>\n",
       "    </tr>\n",
       "    <tr>\n",
       "      <th>Origin</th>\n",
       "      <td>0</td>\n",
       "      <td>0.0</td>\n",
       "    </tr>\n",
       "    <tr>\n",
       "      <th>Dest</th>\n",
       "      <td>0</td>\n",
       "      <td>0.0</td>\n",
       "    </tr>\n",
       "    <tr>\n",
       "      <th>Distance</th>\n",
       "      <td>0</td>\n",
       "      <td>0.0</td>\n",
       "    </tr>\n",
       "    <tr>\n",
       "      <th>TaxiIn</th>\n",
       "      <td>0</td>\n",
       "      <td>0.0</td>\n",
       "    </tr>\n",
       "    <tr>\n",
       "      <th>TaxiOut</th>\n",
       "      <td>0</td>\n",
       "      <td>0.0</td>\n",
       "    </tr>\n",
       "    <tr>\n",
       "      <th>Cancelled</th>\n",
       "      <td>0</td>\n",
       "      <td>0.0</td>\n",
       "    </tr>\n",
       "    <tr>\n",
       "      <th>CancellationCode</th>\n",
       "      <td>0</td>\n",
       "      <td>0.0</td>\n",
       "    </tr>\n",
       "    <tr>\n",
       "      <th>Diverted</th>\n",
       "      <td>0</td>\n",
       "      <td>0.0</td>\n",
       "    </tr>\n",
       "    <tr>\n",
       "      <th>CarrierDelay</th>\n",
       "      <td>0</td>\n",
       "      <td>0.0</td>\n",
       "    </tr>\n",
       "    <tr>\n",
       "      <th>WeatherDelay</th>\n",
       "      <td>0</td>\n",
       "      <td>0.0</td>\n",
       "    </tr>\n",
       "    <tr>\n",
       "      <th>NASDelay</th>\n",
       "      <td>0</td>\n",
       "      <td>0.0</td>\n",
       "    </tr>\n",
       "    <tr>\n",
       "      <th>SecurityDelay</th>\n",
       "      <td>0</td>\n",
       "      <td>0.0</td>\n",
       "    </tr>\n",
       "    <tr>\n",
       "      <th>LateAircraftDelay</th>\n",
       "      <td>0</td>\n",
       "      <td>0.0</td>\n",
       "    </tr>\n",
       "  </tbody>\n",
       "</table>\n",
       "</div>"
      ],
      "text/plain": [
       "                   # Missing  % Missing\n",
       "Month                      0        0.0\n",
       "DayofMonth                 0        0.0\n",
       "DayOfWeek                  0        0.0\n",
       "DepTime                    0        0.0\n",
       "CRSDepTime                 0        0.0\n",
       "ArrTime                    0        0.0\n",
       "CRSArrTime                 0        0.0\n",
       "UniqueCarrier              0        0.0\n",
       "FlightNum                  0        0.0\n",
       "TailNum                    0        0.0\n",
       "ActualElapsedTime          0        0.0\n",
       "CRSElapsedTime             0        0.0\n",
       "AirTime                    0        0.0\n",
       "ArrDelay                   0        0.0\n",
       "DepDelay                   0        0.0\n",
       "Origin                     0        0.0\n",
       "Dest                       0        0.0\n",
       "Distance                   0        0.0\n",
       "TaxiIn                     0        0.0\n",
       "TaxiOut                    0        0.0\n",
       "Cancelled                  0        0.0\n",
       "CancellationCode           0        0.0\n",
       "Diverted                   0        0.0\n",
       "CarrierDelay               0        0.0\n",
       "WeatherDelay               0        0.0\n",
       "NASDelay                   0        0.0\n",
       "SecurityDelay              0        0.0\n",
       "LateAircraftDelay          0        0.0"
      ]
     },
     "execution_count": 16,
     "metadata": {},
     "output_type": "execute_result"
    }
   ],
   "source": [
    "# Impute missing values for each delay category variable, by splitting up the arrival delay as to the weights\n",
    "for var in [\"CarrierDelay\", \"WeatherDelay\", \"NASDelay\", \"SecurityDelay\", \"LateAircraftDelay\"]:\n",
    "    df_success_flights[var].fillna(df_success_flights[\"ArrDelay\"] * df_dly_weights[var], inplace=True)\n",
    "\n",
    "# Check that there are no missing values left\n",
    "util.build_nan_data(df_success_flights)"
   ]
  },
  {
   "cell_type": "markdown",
   "metadata": {},
   "source": [
    "We have cleared all missing values from the dataset of successful flights!"
   ]
  },
  {
   "cell_type": "markdown",
   "metadata": {},
   "source": [
    "##### 3.4 Missing values in failed flights\n",
    "\n",
    "Regarding failed flights, we can simply drop all columns related to duration and performance, as these make sense only for flights that took off and arrived at their destination. \n",
    "\n",
    "There are also some missing values in variables that could turn out to be useful for analyzing failed flights: TailNum and CRSElapsedTime. Since only 0.02% and 2.36% of the failed flights have missing values for these two variables, we can just drop those rows. "
   ]
  },
  {
   "cell_type": "code",
   "execution_count": 17,
   "metadata": {},
   "outputs": [
    {
     "data": {
      "text/html": [
       "<div>\n",
       "<style scoped>\n",
       "    .dataframe tbody tr th:only-of-type {\n",
       "        vertical-align: middle;\n",
       "    }\n",
       "\n",
       "    .dataframe tbody tr th {\n",
       "        vertical-align: top;\n",
       "    }\n",
       "\n",
       "    .dataframe thead th {\n",
       "        text-align: right;\n",
       "    }\n",
       "</style>\n",
       "<table border=\"1\" class=\"dataframe\">\n",
       "  <thead>\n",
       "    <tr style=\"text-align: right;\">\n",
       "      <th></th>\n",
       "      <th># Missing</th>\n",
       "      <th>% Missing</th>\n",
       "    </tr>\n",
       "  </thead>\n",
       "  <tbody>\n",
       "    <tr>\n",
       "      <th>Month</th>\n",
       "      <td>0</td>\n",
       "      <td>0.000000</td>\n",
       "    </tr>\n",
       "    <tr>\n",
       "      <th>DayofMonth</th>\n",
       "      <td>0</td>\n",
       "      <td>0.000000</td>\n",
       "    </tr>\n",
       "    <tr>\n",
       "      <th>DayOfWeek</th>\n",
       "      <td>0</td>\n",
       "      <td>0.000000</td>\n",
       "    </tr>\n",
       "    <tr>\n",
       "      <th>DepTime</th>\n",
       "      <td>0</td>\n",
       "      <td>0.000000</td>\n",
       "    </tr>\n",
       "    <tr>\n",
       "      <th>CRSDepTime</th>\n",
       "      <td>0</td>\n",
       "      <td>0.000000</td>\n",
       "    </tr>\n",
       "    <tr>\n",
       "      <th>ArrTime</th>\n",
       "      <td>7110</td>\n",
       "      <td>84.774055</td>\n",
       "    </tr>\n",
       "    <tr>\n",
       "      <th>CRSArrTime</th>\n",
       "      <td>0</td>\n",
       "      <td>0.000000</td>\n",
       "    </tr>\n",
       "    <tr>\n",
       "      <th>UniqueCarrier</th>\n",
       "      <td>0</td>\n",
       "      <td>0.000000</td>\n",
       "    </tr>\n",
       "    <tr>\n",
       "      <th>FlightNum</th>\n",
       "      <td>0</td>\n",
       "      <td>0.000000</td>\n",
       "    </tr>\n",
       "    <tr>\n",
       "      <th>TailNum</th>\n",
       "      <td>2</td>\n",
       "      <td>0.023846</td>\n",
       "    </tr>\n",
       "    <tr>\n",
       "      <th>ActualElapsedTime</th>\n",
       "      <td>8387</td>\n",
       "      <td>100.000000</td>\n",
       "    </tr>\n",
       "    <tr>\n",
       "      <th>CRSElapsedTime</th>\n",
       "      <td>198</td>\n",
       "      <td>2.360796</td>\n",
       "    </tr>\n",
       "    <tr>\n",
       "      <th>AirTime</th>\n",
       "      <td>8387</td>\n",
       "      <td>100.000000</td>\n",
       "    </tr>\n",
       "    <tr>\n",
       "      <th>ArrDelay</th>\n",
       "      <td>8387</td>\n",
       "      <td>100.000000</td>\n",
       "    </tr>\n",
       "    <tr>\n",
       "      <th>DepDelay</th>\n",
       "      <td>0</td>\n",
       "      <td>0.000000</td>\n",
       "    </tr>\n",
       "    <tr>\n",
       "      <th>Origin</th>\n",
       "      <td>0</td>\n",
       "      <td>0.000000</td>\n",
       "    </tr>\n",
       "    <tr>\n",
       "      <th>Dest</th>\n",
       "      <td>0</td>\n",
       "      <td>0.000000</td>\n",
       "    </tr>\n",
       "    <tr>\n",
       "      <th>Distance</th>\n",
       "      <td>0</td>\n",
       "      <td>0.000000</td>\n",
       "    </tr>\n",
       "    <tr>\n",
       "      <th>TaxiIn</th>\n",
       "      <td>7110</td>\n",
       "      <td>84.774055</td>\n",
       "    </tr>\n",
       "    <tr>\n",
       "      <th>TaxiOut</th>\n",
       "      <td>455</td>\n",
       "      <td>5.425063</td>\n",
       "    </tr>\n",
       "    <tr>\n",
       "      <th>Cancelled</th>\n",
       "      <td>0</td>\n",
       "      <td>0.000000</td>\n",
       "    </tr>\n",
       "    <tr>\n",
       "      <th>CancellationCode</th>\n",
       "      <td>0</td>\n",
       "      <td>0.000000</td>\n",
       "    </tr>\n",
       "    <tr>\n",
       "      <th>Diverted</th>\n",
       "      <td>0</td>\n",
       "      <td>0.000000</td>\n",
       "    </tr>\n",
       "    <tr>\n",
       "      <th>CarrierDelay</th>\n",
       "      <td>8387</td>\n",
       "      <td>100.000000</td>\n",
       "    </tr>\n",
       "    <tr>\n",
       "      <th>WeatherDelay</th>\n",
       "      <td>8387</td>\n",
       "      <td>100.000000</td>\n",
       "    </tr>\n",
       "    <tr>\n",
       "      <th>NASDelay</th>\n",
       "      <td>8387</td>\n",
       "      <td>100.000000</td>\n",
       "    </tr>\n",
       "    <tr>\n",
       "      <th>SecurityDelay</th>\n",
       "      <td>8387</td>\n",
       "      <td>100.000000</td>\n",
       "    </tr>\n",
       "    <tr>\n",
       "      <th>LateAircraftDelay</th>\n",
       "      <td>8387</td>\n",
       "      <td>100.000000</td>\n",
       "    </tr>\n",
       "  </tbody>\n",
       "</table>\n",
       "</div>"
      ],
      "text/plain": [
       "                   # Missing   % Missing\n",
       "Month                      0    0.000000\n",
       "DayofMonth                 0    0.000000\n",
       "DayOfWeek                  0    0.000000\n",
       "DepTime                    0    0.000000\n",
       "CRSDepTime                 0    0.000000\n",
       "ArrTime                 7110   84.774055\n",
       "CRSArrTime                 0    0.000000\n",
       "UniqueCarrier              0    0.000000\n",
       "FlightNum                  0    0.000000\n",
       "TailNum                    2    0.023846\n",
       "ActualElapsedTime       8387  100.000000\n",
       "CRSElapsedTime           198    2.360796\n",
       "AirTime                 8387  100.000000\n",
       "ArrDelay                8387  100.000000\n",
       "DepDelay                   0    0.000000\n",
       "Origin                     0    0.000000\n",
       "Dest                       0    0.000000\n",
       "Distance                   0    0.000000\n",
       "TaxiIn                  7110   84.774055\n",
       "TaxiOut                  455    5.425063\n",
       "Cancelled                  0    0.000000\n",
       "CancellationCode           0    0.000000\n",
       "Diverted                   0    0.000000\n",
       "CarrierDelay            8387  100.000000\n",
       "WeatherDelay            8387  100.000000\n",
       "NASDelay                8387  100.000000\n",
       "SecurityDelay           8387  100.000000\n",
       "LateAircraftDelay       8387  100.000000"
      ]
     },
     "execution_count": 17,
     "metadata": {},
     "output_type": "execute_result"
    }
   ],
   "source": [
    "# Check for missing values in the dataset of failed flights\n",
    "util.build_nan_data(df_failed_flights)"
   ]
  },
  {
   "cell_type": "code",
   "execution_count": 18,
   "metadata": {},
   "outputs": [
    {
     "data": {
      "text/html": [
       "<div>\n",
       "<style scoped>\n",
       "    .dataframe tbody tr th:only-of-type {\n",
       "        vertical-align: middle;\n",
       "    }\n",
       "\n",
       "    .dataframe tbody tr th {\n",
       "        vertical-align: top;\n",
       "    }\n",
       "\n",
       "    .dataframe thead th {\n",
       "        text-align: right;\n",
       "    }\n",
       "</style>\n",
       "<table border=\"1\" class=\"dataframe\">\n",
       "  <thead>\n",
       "    <tr style=\"text-align: right;\">\n",
       "      <th></th>\n",
       "      <th># Missing</th>\n",
       "      <th>% Missing</th>\n",
       "    </tr>\n",
       "  </thead>\n",
       "  <tbody>\n",
       "    <tr>\n",
       "      <th>Month</th>\n",
       "      <td>0</td>\n",
       "      <td>0.0</td>\n",
       "    </tr>\n",
       "    <tr>\n",
       "      <th>DayofMonth</th>\n",
       "      <td>0</td>\n",
       "      <td>0.0</td>\n",
       "    </tr>\n",
       "    <tr>\n",
       "      <th>DayOfWeek</th>\n",
       "      <td>0</td>\n",
       "      <td>0.0</td>\n",
       "    </tr>\n",
       "    <tr>\n",
       "      <th>DepTime</th>\n",
       "      <td>0</td>\n",
       "      <td>0.0</td>\n",
       "    </tr>\n",
       "    <tr>\n",
       "      <th>CRSDepTime</th>\n",
       "      <td>0</td>\n",
       "      <td>0.0</td>\n",
       "    </tr>\n",
       "    <tr>\n",
       "      <th>CRSArrTime</th>\n",
       "      <td>0</td>\n",
       "      <td>0.0</td>\n",
       "    </tr>\n",
       "    <tr>\n",
       "      <th>UniqueCarrier</th>\n",
       "      <td>0</td>\n",
       "      <td>0.0</td>\n",
       "    </tr>\n",
       "    <tr>\n",
       "      <th>FlightNum</th>\n",
       "      <td>0</td>\n",
       "      <td>0.0</td>\n",
       "    </tr>\n",
       "    <tr>\n",
       "      <th>TailNum</th>\n",
       "      <td>0</td>\n",
       "      <td>0.0</td>\n",
       "    </tr>\n",
       "    <tr>\n",
       "      <th>CRSElapsedTime</th>\n",
       "      <td>0</td>\n",
       "      <td>0.0</td>\n",
       "    </tr>\n",
       "    <tr>\n",
       "      <th>DepDelay</th>\n",
       "      <td>0</td>\n",
       "      <td>0.0</td>\n",
       "    </tr>\n",
       "    <tr>\n",
       "      <th>Origin</th>\n",
       "      <td>0</td>\n",
       "      <td>0.0</td>\n",
       "    </tr>\n",
       "    <tr>\n",
       "      <th>Dest</th>\n",
       "      <td>0</td>\n",
       "      <td>0.0</td>\n",
       "    </tr>\n",
       "    <tr>\n",
       "      <th>Distance</th>\n",
       "      <td>0</td>\n",
       "      <td>0.0</td>\n",
       "    </tr>\n",
       "    <tr>\n",
       "      <th>Cancelled</th>\n",
       "      <td>0</td>\n",
       "      <td>0.0</td>\n",
       "    </tr>\n",
       "    <tr>\n",
       "      <th>CancellationCode</th>\n",
       "      <td>0</td>\n",
       "      <td>0.0</td>\n",
       "    </tr>\n",
       "    <tr>\n",
       "      <th>Diverted</th>\n",
       "      <td>0</td>\n",
       "      <td>0.0</td>\n",
       "    </tr>\n",
       "  </tbody>\n",
       "</table>\n",
       "</div>"
      ],
      "text/plain": [
       "                  # Missing  % Missing\n",
       "Month                     0        0.0\n",
       "DayofMonth                0        0.0\n",
       "DayOfWeek                 0        0.0\n",
       "DepTime                   0        0.0\n",
       "CRSDepTime                0        0.0\n",
       "CRSArrTime                0        0.0\n",
       "UniqueCarrier             0        0.0\n",
       "FlightNum                 0        0.0\n",
       "TailNum                   0        0.0\n",
       "CRSElapsedTime            0        0.0\n",
       "DepDelay                  0        0.0\n",
       "Origin                    0        0.0\n",
       "Dest                      0        0.0\n",
       "Distance                  0        0.0\n",
       "Cancelled                 0        0.0\n",
       "CancellationCode          0        0.0\n",
       "Diverted                  0        0.0"
      ]
     },
     "execution_count": 18,
     "metadata": {},
     "output_type": "execute_result"
    }
   ],
   "source": [
    "try:\n",
    "    # Drop columns missing values \n",
    "    df_failed_flights.drop(columns=[\"ArrTime\", \"ActualElapsedTime\", \"AirTime\", \"ArrDelay\", \"TaxiIn\", \n",
    "                                    \"TaxiOut\", \"CarrierDelay\", \"WeatherDelay\", \"NASDelay\", \n",
    "                                    \"SecurityDelay\", \"LateAircraftDelay\"], inplace=True)\n",
    "except KeyError:\n",
    "    # Alright, columns were already dropped\n",
    "    pass\n",
    "\n",
    "# Drop rows missing TailNum or CRSElapsedTime\n",
    "df_failed_flights.dropna(subset=[\"TailNum\", \"CRSElapsedTime\"], inplace=True)\n",
    "\n",
    "# Check again for missing values in the dataset of failed flights\n",
    "util.build_nan_data(df_failed_flights)"
   ]
  },
  {
   "cell_type": "markdown",
   "metadata": {},
   "source": [
    "Now the dataset of failed flights is clear of missing values too!\n",
    "\n",
    "##### 3.5 Results\n",
    "\n",
    "In summary, as a result of the data preparation process we have two datasets cleared of missing values:\n",
    "\n",
    "- *df_success_flights:* will be useful to analyze and model flight delays for flights that were carried out.\n",
    "- *df_failed_flights:* can be used to analyze and model flights that didn't reach their intended destination because of being cancelled or diverted.\n",
    "\n",
    "We also have the full dataset in *df_flight_delays*, which can still be of use with analysis techniques that can deal with missing values."
   ]
  },
  {
   "cell_type": "markdown",
   "metadata": {},
   "source": [
    "### 4. Analysis and Modeling\n",
    "\n",
    "Now that we have clean information about successful and cancelled flights, we can proceed to answer our questions and attempt model flight delays. But before going further, let's compute some more interesting statistics about the dataset to learn a bit more about it.\n",
    "\n",
    "\n"
   ]
  },
  {
   "cell_type": "code",
   "execution_count": 19,
   "metadata": {},
   "outputs": [
    {
     "name": "stdout",
     "output_type": "stream",
     "text": [
      "Total flights recorded: 1936555\n",
      "Flights successful. Total: 1928368. Percentage: 99.5772389630039\n",
      "Flights failed. Total: 8187. Percentage: 0.4227610369961091\n",
      "Flights with delay > 1 hour. Total: 439174. Percentage: 22.77438746131444\n",
      "Flights cancelled. Total: 633. Percentage: 0.032686910518936976\n",
      "Flights diverted. Total: 7554. Percentage: 0.39007412647717205\n"
     ]
    }
   ],
   "source": [
    "# Get the flights that got delayed more than 1 hour\n",
    "df_all_delayed_flights_1h = df_success_flights[df_success_flights[\"ArrDelay\"] > 60.0]\n",
    "\n",
    "# Get all flights that were cancelled\n",
    "df_cancelled_flights = df_failed_flights[df_failed_flights[\"Cancelled\"] == 1.0]\n",
    "\n",
    "# Get all flights that were diverted\n",
    "df_diverted_flights = df_failed_flights[df_failed_flights[\"Diverted\"] == 1.0]\n",
    "\n",
    "# Compute the totals of all flights, flights with delays longer than 1 hour, flights cancelled and diverted\n",
    "total_successful_flights = df_success_flights.shape[0]\n",
    "total_failed_flights = df_failed_flights.shape[0]\n",
    "total_flights = total_successful_flights + total_failed_flights\n",
    "total_delayed_1h = df_all_delayed_flights_1h.shape[0]\n",
    "total_cancelled = df_cancelled_flights.shape[0]\n",
    "total_diverted = df_diverted_flights.shape[0]\n",
    "\n",
    "# Compute the percentage of each category extracted above\n",
    "perc_successful = (total_successful_flights / total_flights) * 100\n",
    "perc_failed = (total_failed_flights / total_flights) * 100\n",
    "perc_delayed = (total_delayed_1h / total_successful_flights) * 100\n",
    "perc_cancelled = (total_cancelled / total_flights) * 100\n",
    "perc_diverted = (total_diverted / total_flights) * 100\n",
    "\n",
    "print(f\"Total flights recorded: {total_flights}\")\n",
    "print(f\"Flights successful. Total: {total_successful_flights}. Percentage: {perc_successful}\")\n",
    "print(f\"Flights failed. Total: {total_failed_flights}. Percentage: {perc_failed}\")\n",
    "print(f\"Flights with delay > 1 hour. Total: {total_delayed_1h}. Percentage: {perc_delayed}\")\n",
    "print(f\"Flights cancelled. Total: {total_cancelled}. Percentage: {perc_cancelled}\")\n",
    "print(f\"Flights diverted. Total: {total_diverted}. Percentage: {perc_diverted}\")"
   ]
  },
  {
   "cell_type": "markdown",
   "metadata": {},
   "source": [
    "##### 4.1 Carrier performance\n",
    "\n",
    "Note that in the analysis of this and the next question, we use summary statistics that are not affected by missing values. We would also like to use all the information available and thus, we prefer to make use of the full dataset in answering these questions.\n",
    "\n",
    "Our first question is concerned about how good is the service of carriers with respect to delays and cancellations:\n",
    "\n",
    "1. Which were the best and the worst carriers (airlines) regarding delays and cancellations in 2008?\n",
    "\n",
    "To answer this question, let's compute the average departure and arrival delay for each carrier and analyze the results."
   ]
  },
  {
   "cell_type": "code",
   "execution_count": 20,
   "metadata": {},
   "outputs": [
    {
     "data": {
      "image/png": "[encoded data removed]",
      "text/plain": [
       "<Figure size 1080x432 with 1 Axes>"
      ]
     },
     "metadata": {
      "needs_background": "light"
     },
     "output_type": "display_data"
    }
   ],
   "source": [
    "# Group the dataset by carrier and compute the mean for each variable\n",
    "df_carrier_delay_perf = df_flight_delays[[\"UniqueCarrier\", \"ArrDelay\", \"DepDelay\"]]\n",
    "delay_means = df_carrier_delay_perf.groupby(\"UniqueCarrier\").mean()\n",
    "\n",
    "# Series to plot: mean arrival delay and mean departure delay by carrier\n",
    "arrival_means = delay_means[\"ArrDelay\"].astype(\"int64\")\n",
    "depart_means = delay_means[\"DepDelay\"].astype(\"int64\")\n",
    "labels = delay_means.index\n",
    "\n",
    "title = \"Mean Arrival and Departure Delay by Carrier\"\n",
    "ylabel = \"Delay (Minutes)\"\n",
    "\n",
    "# Plot mean departure and arrival delays by carrier\n",
    "util.bi_bar_plot(labels, arrival_means, depart_means, \"Arrival\", \"Departure\", ylabel, title, figsize=(15, 6))"
   ]
  },
  {
   "cell_type": "markdown",
   "metadata": {},
   "source": [
    "The bar plot shows that the mean delays for the best performing carrier, are slightly less than a half of the delays for the worst performing carrier. This applies to both, departure and arrival delays and is a considerable difference. \n",
    "\n",
    "In conclusion, the data shows that in 2008, the carrier with the shortest mean delays was AQ and the carrier with the longest mean delays was YV. Carrier AQ had a mean departure delay of 26 minutes and a mean arrival delay of 21 minutes, whereas YV had more than twice these numbers, with both, mean departure and arrival delays of 55 minutes."
   ]
  },
  {
   "cell_type": "code",
   "execution_count": 21,
   "metadata": {},
   "outputs": [
    {
     "data": {
      "image/png": "[encoded data removed]",
      "text/plain": [
       "<Figure size 1080x432 with 1 Axes>"
      ]
     },
     "metadata": {
      "needs_background": "light"
     },
     "output_type": "display_data"
    }
   ],
   "source": [
    "# Group the cancelled and diverted flights by carrier and compute their means\n",
    "df_carrier_fail_perf = df_flight_delays[[\"UniqueCarrier\", \"Cancelled\", \"Diverted\"]]\n",
    "failed_ratios = df_carrier_fail_perf.groupby(\"UniqueCarrier\").mean()\n",
    "\n",
    "# Series to plot: total cancelled and diverted flights by carrier\n",
    "cancel_percs = (failed_ratios[\"Cancelled\"] * 100).round(2)\n",
    "diverted_percs = (failed_ratios[\"Diverted\"] * 100).round(2)\n",
    "labels = failed_ratios.index\n",
    "\n",
    "title = \"Cancelled and Diverted Flight Percentage by Carrier\"\n",
    "ylabel = \"Percentage\"\n",
    "\n",
    "# Plot percentage of cancelled and diverted flights by carrier\n",
    "util.bi_bar_plot(labels, cancel_percs, diverted_percs, \"Cancelled\", \"Diverted\", ylabel, title, bar_width=0.46, figsize=(15, 6))"
   ]
  },
  {
   "cell_type": "markdown",
   "metadata": {},
   "source": [
    "Regarding cancelled and diverted flights, we can see from the bar plot that in general, the percentage of cancelled and diverged flights is pretty low for all carriers (all less than 1%). We can also notice that results vary much more between carriers when compared to mean delays. \n",
    "\n",
    "The carrier with the highest percentage of diverted flights is AQ, with 0.8%. The carrier with the lowest percentage of such flights is WN, with a perfect record of 0%. Regarding cancelled flights, the carrier that got the highest percentage is 9E, but with just 0.11%. The carrier that got the lowest percentage was AQ, with 0% flights cancelled. Therefore, we come to the conclusion that all carriers had a good performance with respect to failed flights. Especially EV, which got a total of just 0.15% flights either cancelled or diverted.\n",
    "\n",
    "##### 4.2 Delays and cancellations throughout the year\n",
    "\n",
    "The second question is concerned with how delays, cancellations and diverted flights vary through the year:\n",
    "\n",
    "2. Can we identify months of the year 2008 when delays were particularly long?\n",
    "\n",
    "First let's visualize what the mean delays were every month."
   ]
  },
  {
   "cell_type": "code",
   "execution_count": 22,
   "metadata": {},
   "outputs": [
    {
     "data": {
      "image/png": "[encoded data removed]",
      "text/plain": [
       "<Figure size 1080x432 with 1 Axes>"
      ]
     },
     "metadata": {
      "needs_background": "light"
     },
     "output_type": "display_data"
    }
   ],
   "source": [
    "# Group delays by month and compute the mean for each variable\n",
    "df_monthly_delays = df_flight_delays[[\"Month\", \"ArrDelay\", \"DepDelay\"]]\n",
    "delay_means_month = df_monthly_delays.groupby(\"Month\").mean()\n",
    "\n",
    "# Series to plot: mean arrival delay and mean departure delay by month\n",
    "arrival_means_month = delay_means_month[\"ArrDelay\"].astype(\"int64\")\n",
    "depart_means_month = delay_means_month[\"DepDelay\"].astype(\"int64\")\n",
    "labels = delay_means_month.index\n",
    "\n",
    "title = \"Mean Arrival and Departure Delay by Month\"\n",
    "ylabel = \"Delay (Minutes)\"\n",
    "\n",
    "# Plot mean departure and arrival delays by month\n",
    "util.bi_bar_plot(labels, arrival_means_month, depart_means_month, \"Arrival\", \"Departure\", ylabel, title, figsize=(15, 6))"
   ]
  },
  {
   "cell_type": "markdown",
   "metadata": {},
   "source": [
    "The maximum mean departure delay was 49 minutes and occurred in December. The minimum mean departure delay occurred in September and was 34 minutes. Then, the difference was 15 minutes, a rather modest variation considering that the standard deviation of the variable DepDelay was 53 (as calculated in 2.1). As we can see from the plot, mean arrival delays are rather homogeneous throughout the year, with a difference between minimum and maximum of 18 and a standard deviation of 57 in variable ArrDelay.\n",
    "\n",
    "This suggests that the answer to the question is no, there are no months of the year when average departure or arrival delays are particularly long. As expected, December has slightly longer delays than the rest of the months."
   ]
  },
  {
   "cell_type": "code",
   "execution_count": 23,
   "metadata": {},
   "outputs": [
    {
     "data": {
      "image/png": "[encoded data removed]",
      "text/plain": [
       "<Figure size 1080x432 with 1 Axes>"
      ]
     },
     "metadata": {
      "needs_background": "light"
     },
     "output_type": "display_data"
    }
   ],
   "source": [
    "# Group the cancelled and diverted flights by month and compute their means\n",
    "df_month_fail_perf = df_flight_delays[[\"Month\", \"Cancelled\", \"Diverted\"]]\n",
    "failed_ratios_month = df_month_fail_perf.groupby(\"Month\").mean()\n",
    "\n",
    "# Series to plot: total cancelled and diverted flights by month\n",
    "cancel_percs_month = (failed_ratios_month[\"Cancelled\"] * 100).round(2)\n",
    "diverted_percs_month = (failed_ratios_month[\"Diverted\"] * 100).round(2)\n",
    "labels = failed_ratios_month.index\n",
    "\n",
    "title = \"Cancelled and Diverted Flight Percentage by Month\"\n",
    "ylabel = \"Percentage\"\n",
    "\n",
    "# Plot percentage of cancelled and diverted flights by month\n",
    "util.bi_bar_plot(labels, cancel_percs_month, diverted_percs_month, \"Cancelled\", \"Diverted\", ylabel, title, bar_width=0.46, figsize=(15, 6))"
   ]
  },
  {
   "cell_type": "markdown",
   "metadata": {},
   "source": [
    "##### 4.3 Major delay causes\n",
    "\n",
    "The dataset provides information about several factors that may delay flights. In the third question we will take a look at the significance of these factors.\n",
    "\n",
    "3. What were the major causes of delays affecting domestic flights in the U.S. in 2008?\n",
    "\n",
    "The correlation between the delay in the departure and arrival of a flight, with the delays introduced by each known factor, can be used to answer this question. This correlation provides a measure of how much of the departure and arrival delay is caused by each factor (carrier, weather, N.A.S, security events, late arrival of the aircraft).  "
   ]
  },
  {
   "cell_type": "code",
   "execution_count": 25,
   "metadata": {},
   "outputs": [
    {
     "data": {
      "text/plain": [
       "Text(0.5, 1, 'Correlation Among Delay Variables')"
      ]
     },
     "execution_count": 25,
     "metadata": {},
     "output_type": "execute_result"
    },
    {
     "data": {
      "image/png": "[encoded data removed]",
      "text/plain": [
       "<Figure size 864x432 with 2 Axes>"
      ]
     },
     "metadata": {
      "needs_background": "light"
     },
     "output_type": "display_data"
    }
   ],
   "source": [
    "f, ax = plt.subplots(figsize=(12, 6))\n",
    "\n",
    "# Compute the correlation among all delay variables\n",
    "delay_correlation_mtx = df_success_flights[[\"DepDelay\", \"ArrDelay\", \"CarrierDelay\", \"WeatherDelay\", \n",
    "                                            \"NASDelay\", \"SecurityDelay\", \"LateAircraftDelay\"]].corr()\n",
    "\n",
    "# Plot a heatmap showing all these correlations \n",
    "sns.heatmap(delay_correlation_mtx, annot=True, fmt=\".2f\")\n",
    "\n",
    "ax.set_title(\"Correlation Among Delay Variables\")"
   ]
  },
  {
   "cell_type": "markdown",
   "metadata": {},
   "source": [
    "The heatmap shows that departure delays were mostly caused by the aircraft arriving late at the origin airport and by problems related to the carrier. As expected, arrival delays are mostly associated with those same causes. This is because as also shown in the heatmap, most of the departure delay is reflected into the arrival delay (if the aircraft takes off late, most likely it will land equally late). "
   ]
  },
  {
   "cell_type": "markdown",
   "metadata": {},
   "source": [
    "##### 4.4 Estimation of flight delays\n",
    "\n",
    "The fourth question asks about a model that predicts how delayed could a flight get, given some of its known attributes (e.g. carrier, origin airport, destination airport, date and time). Especifically, the question asks:\n",
    "\n",
    "4. Can we build a model to estimate how much delay could be expected in a flight?\n",
    "\n",
    "First, let's take a look at the correlation among variables that would be known before the flight takes place. These would be the variables we could use as independent variables to predict the potential delay of the flight."
   ]
  },
  {
   "cell_type": "code",
   "execution_count": 26,
   "metadata": {},
   "outputs": [
    {
     "data": {
      "text/plain": [
       "Text(0.5, 1, 'Correlation Among Variables Known Prior to Flight and Arrival Delay')"
      ]
     },
     "execution_count": 26,
     "metadata": {},
     "output_type": "execute_result"
    },
    {
     "data": {
      "image/png": "[encoded data removed]",
      "text/plain": [
       "<Figure size 864x432 with 2 Axes>"
      ]
     },
     "metadata": {
      "needs_background": "light"
     },
     "output_type": "display_data"
    }
   ],
   "source": [
    "f, ax = plt.subplots(figsize=(12, 6))\n",
    "\n",
    "# Compute the correlation among all independent variables and ArrDelay, the dependent variable\n",
    "delay_correlation_mtx = df_success_flights[[\"Month\", \"DayofMonth\", \"DayOfWeek\", \"CRSDepTime\", \"CRSArrTime\",\n",
    "                                            \"UniqueCarrier\", \"FlightNum\", \"TailNum\", \"CRSElapsedTime\",\n",
    "                                            \"ArrDelay\", \"Origin\", \"Dest\", \"Distance\"]].corr()\n",
    "\n",
    "# Plot a heatmap showing all these correlations \n",
    "sns.heatmap(delay_correlation_mtx, annot=True, fmt=\".2f\")\n",
    "\n",
    "ax.set_title(\"Correlation Among Variables Known Prior to Flight and Arrival Delay\")"
   ]
  },
  {
   "cell_type": "markdown",
   "metadata": {},
   "source": [
    "The heatmap of correlations shows two pairs of variables that are highly correlated: CRSDepTime (Scheduled Departure Time) with CRSArrTime (Scheduled Arrival Time) and Distance with CRSElapsedTime (Scheduled Elapsed Time). However these correlations are pretty obvious and are of no use in modeling delays. \n",
    "\n",
    "The correlations between ArrDelay and all other variables is very low. Hence, there is no direct relation between any of the independent variables and the arrival delay. However, a regression model still might discover more complex relations between these variables, so let's build a Linear Regression model to judge if that could work.\n",
    "\n",
    "Firstly, we make some adjustments to the data. Namely, convert the variables Month, DayOfMonth and DayOfWeek to strings, so that they're treated as categorical variables by the regression algorithms. Then we transform all categorical variables into 0-1 encoding."
   ]
  },
  {
   "cell_type": "code",
   "execution_count": 27,
   "metadata": {},
   "outputs": [],
   "source": [
    "# Take a random sample of the dataset of successful flights, as it is too big to be processed in a PC\n",
    "df_success_flights_sample = df_success_flights.sample(n=10000, axis=0)\n",
    "\n",
    "# Only take variables that are unknown prior to the flight and the dependent variable, ArrDelay\n",
    "df_success_flights_sub = df_success_flights_sample[[\"Month\", \"UniqueCarrier\",\n",
    "                                                    \"FlightNum\", \"TailNum\", \"CRSElapsedTime\",\n",
    "                                                    \"ArrDelay\", \"Origin\", \"Dest\", \"Distance\"]]\n",
    "\n",
    "# Note that Month, DayOfMonth and DayOfWeek are actually categorical. So, convert them to strings \n",
    "# to prevent the regression algorithm from interpreting them as ordered numbers\n",
    "df_success_flights_sub = \\\n",
    "    df_success_flights_sub.astype({\"Month\": \"str\"})\n",
    "\n",
    "# Encode all categorical variables using 0-1 encoding:\n",
    "cat_vars = df_success_flights_sub.select_dtypes(include=[\"object\"]).columns.values\n",
    "df_processed = pd.get_dummies(df_success_flights_sub, prefix=cat_vars, columns=cat_vars, drop_first=True)\n",
    "\n",
    "# The dependent variable is ArrDelay (arrival delay), the rest are independent variables\n",
    "X = df_processed[np.setdiff1d(df_processed.columns.values, [\"ArrDelay\"])]\n",
    "y = df_processed[\"ArrDelay\"]\n",
    "\n",
    "# Split the data in training and test sets\n",
    "X_train, X_test, y_train, y_test = train_test_split(X, y, test_size=0.33)"
   ]
  },
  {
   "cell_type": "markdown",
   "metadata": {},
   "source": [
    "Some experimenting shows that a Linear Regression model is not even remotely appropiate to model the ArrDelay with the data we have at our disposal. We conclude this after getting extremely negative results in all of our attempts to fit a Linear Regression model."
   ]
  },
  {
   "cell_type": "code",
   "execution_count": 28,
   "metadata": {},
   "outputs": [
    {
     "name": "stdout",
     "output_type": "stream",
     "text": [
      "R-Score with Linear Regression: -1.7979140735683255e+29\n"
     ]
    }
   ],
   "source": [
    "# Instantiate the model. Usually it's necessary to normalize (standarize) the data. It's the safe thing to do\n",
    "lm_model = LinearRegression(normalize=True)\n",
    "\n",
    "# Fit the model to the training data\n",
    "lm_model.fit(X_train, y_train)\n",
    "\n",
    "# Predict on the test data\n",
    "y_test_preds = lm_model.predict(X_test)\n",
    "\n",
    "# Score the model on the test data\n",
    "# R-squared value to measure how well the predicted values compare to the actual test values\n",
    "r2_test_lr = r2_score(y_test, y_test_preds)\n",
    "\n",
    "print(f\"R-Score with Linear Regression: {r2_test_lr}\")"
   ]
  },
  {
   "cell_type": "markdown",
   "metadata": {},
   "source": [
    "Even fitting a Support Vector Regressor, a much more powerful technique, also resulted in a negative R-Score. Although the result improved considerably with respect to the Linear Regressor, the R-Score is still unnacceptably low."
   ]
  },
  {
   "cell_type": "code",
   "execution_count": 29,
   "metadata": {},
   "outputs": [
    {
     "name": "stdout",
     "output_type": "stream",
     "text": [
      "R-Score with Support Vector Regressor: -0.09029148703956236\n"
     ]
    }
   ],
   "source": [
    "# Feature scaling\n",
    "sc_X = StandardScaler()\n",
    "X_train = sc_X.fit_transform(X_train)\n",
    "X_test = sc_X.transform(X_test)\n",
    "\n",
    "sc_y = StandardScaler()\n",
    "arr_y_train_scaled = sc_y.fit_transform(y_train.values.reshape(-1, 1))\n",
    "y_train.iloc[:] = arr_y_train_scaled.squeeze()\n",
    "\n",
    "# Instantiate the model. Use a Radial-Basis kernel, since looks like the data is non-linear\n",
    "regressor = SVR(kernel=\"rbf\", gamma=\"scale\")\n",
    "\n",
    "# Fit the model to the training data\n",
    "regressor.fit(X_train, y_train)\n",
    "\n",
    "# Predict on the test data\n",
    "sc_y_test_preds = regressor.predict(X_test)\n",
    "y_test_preds = sc_y.inverse_transform(sc_y_test_preds)\n",
    "\n",
    "# Score the model on the test data\n",
    "# R-squared value to measure how well the predicted values compare to the actual test values\n",
    "r2_test_svr = r2_score(y_test, y_test_preds)\n",
    "\n",
    "print(f\"R-Score with Support Vector Regressor: {r2_test_svr}\")"
   ]
  },
  {
   "cell_type": "markdown",
   "metadata": {},
   "source": [
    "##### 4.5 Conclusions\n",
    "\n",
    "As a result of the Analysis and Modeling step, we conclude that by making use of descriptive statistics and plots, we can dig a lot of useful information about the data. We were able to answer the first three questions using these techniques and actually, there are many more interesting facts about the problem at hand that could be uncovered using traditional statistics.\n",
    "\n",
    "Sadly we did not succeed in our attempt to build a regression model for flight delays based on this dataset. It could be that there are no deterministic relations among the independent variables and the dependent variable. There could also be many more variables that affect flight delays, but are not included in the dataset. \n",
    "\n",
    "Nevertheless, more advanced machine learning techniques and further analysis could prove otherwise."
   ]
  }
 ],
 "metadata": {
  "kernelspec": {
   "display_name": "Python 3",
   "language": "python",
   "name": "python3"
  },
  "language_info": {
   "codemirror_mode": {
    "name": "ipython",
    "version": 3
   },
   "file_extension": ".py",
   "mimetype": "text/x-python",
   "name": "python",
   "nbconvert_exporter": "python",
   "pygments_lexer": "ipython3",
   "version": "3.7.3"
  }
 },
 "nbformat": 4,
 "nbformat_minor": 2
}
