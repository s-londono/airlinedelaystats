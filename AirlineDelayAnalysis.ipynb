{
 "cells": [
  {
   "cell_type": "markdown",
   "metadata": {},
   "source": [
    "### 1. Business Understanding\n",
    "\n",
    "The dataset we will analyze here, consists of information about domestic flights operated by large airlines in the U.S. throughout 2008. It provides details about the schedule and delays of each flight. The data was originally  compiled and made available to the public by the Bureau of Transportation Statistics, but for our purposes we will use the version available at Kaggle: \n",
    "\n",
    "[https://www.kaggle.com/giovamata/airlinedelaycauses](https://www.kaggle.com/giovamata/airlinedelaycauses)\n",
    "\n",
    "Each record provides details about a specific flight, such as its number, origin, destination, airline, scheduled timeline and actual timeline. Information about delays (deviations from the scheduled timeline) is particularly intersting, as it provides us with the opportunity to analyze how delays are related to other factors and how much are domestic flights affected. The results will hopefully provide insights useful to passengers.\n",
    "\n",
    "In view of the information at hand, we could consider digging for answers to the following questions:\n",
    "\n",
    "1. What are the major causes of delays and cancellations affecting domestic flights in the U.S.?\n",
    "\n",
    "\n",
    "2. Which are the best and the worst carriers (airlines) regarding delays and cancellations? Which are the carriers with the less/most cancellations and the shortest/longest delays?\n",
    "\n",
    "\n",
    "3. Can we identify periods of the year 2008 when delays were particularly long? For instance, days of the week or months of the year.\n",
    "\n",
    "\n",
    "4. Are there any combinations of variables that appear to determine the expected delay time or probability of cancellation of a flight?\n",
    "\n",
    "\n",
    "5. Could we estimate the probability of a flight being cancelled based on some of the variables?\n",
    "\n",
    "The answers we arrive at will hopefully help passengers make more informed decisions in their travels and avoid the inconveniences of getting into a delayed flight. "
   ]
  },
  {
   "cell_type": "markdown",
   "metadata": {},
   "source": [
    "### 2. Data Understanding"
   ]
  },
  {
   "cell_type": "markdown",
   "metadata": {},
   "source": [
    "By invoking the info function on the DataFrame, we see that it contains 1936758 records and 30 variables:"
   ]
  },
  {
   "cell_type": "code",
   "execution_count": 72,
   "metadata": {},
   "outputs": [
    {
     "name": "stdout",
     "output_type": "stream",
     "text": [
      "Airline Delays. Records: 1936758, variables: 30\n",
      "<class 'pandas.core.frame.DataFrame'>\n",
      "RangeIndex: 1936758 entries, 0 to 1936757\n",
      "Data columns (total 30 columns):\n",
      "Unnamed: 0           int64\n",
      "Year                 int64\n",
      "Month                int64\n",
      "DayofMonth           int64\n",
      "DayOfWeek            int64\n",
      "DepTime              float64\n",
      "CRSDepTime           int64\n",
      "ArrTime              float64\n",
      "CRSArrTime           int64\n",
      "UniqueCarrier        object\n",
      "FlightNum            int64\n",
      "TailNum              object\n",
      "ActualElapsedTime    float64\n",
      "CRSElapsedTime       float64\n",
      "AirTime              float64\n",
      "ArrDelay             float64\n",
      "DepDelay             float64\n",
      "Origin               object\n",
      "Dest                 object\n",
      "Distance             int64\n",
      "TaxiIn               float64\n",
      "TaxiOut              float64\n",
      "Cancelled            int64\n",
      "CancellationCode     object\n",
      "Diverted             int64\n",
      "CarrierDelay         float64\n",
      "WeatherDelay         float64\n",
      "NASDelay             float64\n",
      "SecurityDelay        float64\n",
      "LateAircraftDelay    float64\n",
      "dtypes: float64(14), int64(11), object(5)\n",
      "memory usage: 443.3+ MB\n"
     ]
    }
   ],
   "source": [
    "import numpy as np\n",
    "import pandas as pd\n",
    "import matplotlib.pyplot as plt\n",
    "%matplotlib inline\n",
    "\n",
    "df_flight_delays = pd.read_csv(\"datasets/DelayedFlights.csv\")\n",
    "\n",
    "print(f\"Airline Delays. Records: {df_flight_delays.shape[0]}, variables: {df_flight_delays.shape[1]}\")\n",
    "\n",
    "# Get the size of the dataset, list of the variables with their types\n",
    "df_flight_delays.info()"
   ]
  },
  {
   "cell_type": "markdown",
   "metadata": {},
   "source": [
    "The following table provides a description and the type of each variable:\n",
    "\n",
    "Number | Name | Description | Type\n",
    ":------: | :---- | :---- | :----\n",
    "1 | (Unamed) | Sequential record number | Numerical, integer\n",
    "2 | Year | 2008 | Numerical, integer\n",
    "3 | Month | Month number (1=January - 12=December) | Numerical, integer\n",
    "4 | DayofMonth | Day number of the month (1 - 31) | Numerical, integer\n",
    "5 | DayOfWeek | Day number of the week (1=Monday - 7=Sunday) | Numerical, integer\n",
    "6 | DepTime | Actual departure time (local, hhmm) | Numerical, integer\n",
    "7 | CRSDepTime | Scheduled departure time (local, hhmm) | Numerical, integer\n",
    "8 | ArrTime | Actual arrival time (local, hhmm) | Numerical, integer\n",
    "9 | CRSArrTime | Scheduled arrival time (local, hhmm) | Numerical, integer\n",
    "10 | UniqueCarrier | Unique carrier code | Categorical, string\n",
    "11 | FlightNum | Flight number | Numerical, integer\n",
    "12 | TailNum | Plane tail number | Categorical, string\n",
    "13 | ActualElapsedTime | Actual total flight time, in minutes | Numerical, decimal\n",
    "14 | CRSElapsedTime | Total flight time estimated by the carrier, in minutes | Numerical, decimal\n",
    "15 | AirTime | Time in the air, in minutes | Numerical, decimal\n",
    "16 | ArrDelay | Delay to arrive at the destination airport, in minutes | Numerical, decimal\n",
    "17 | DepDelay | Delay to depart from the origin airport, in minutes | Numerical, decimal\n",
    "18 | Origin | Origin IATA airport code | Categorical, string\n",
    "19 | Dest | Destination IATA airport code | Categorical, string\n",
    "20 | Distance | Travel in miles | Numerical, integer\n",
    "21 | TaxiIn | Taxi in time (time to roll from the terminal to the runway), in minutes | Numerical, decimal\n",
    "22 | TaxiOut | Taxi out time (time to roll from the runway to the terminal) in minutes | Numerical, decimal\n",
    "23 | Cancelled | Was the flight cancelled? | Numerical, boolean\n",
    "24 | CancellationCode | Reason why flight was cancelled (A=carrier, B=weather, C=NAS, D=security) | Categorical, string\n",
    "25 | Diverted | Was the flight diverted to another destination? (1=yes, 0=no) | Numerical, integer\n",
    "26 | CarrierDelay | Delay caused by the carrier, in minutes | Numerical, decimal\n",
    "27 | WeatherDelay | Delay caused by the weather, in minutes | Numerical, decimal\n",
    "28 | NASDelay | Delay caused by the NAS (National Airspace System), in minutes | Numerical, decimal\n",
    "29 | SecurityDelay | Delay caused by security issues, in minutes | Numerical, decimal\n",
    "30 | LateAircraftDelay | Delay caused by the aircraft arriving late, in minutes | Numerical, decimal\n",
    "\n",
    "There are five categorical variables: UniqueCarrier, TailNum, Origin, Dest and CancellationCode. The rest are all numerical. However, when performing operations on DepTime, CRSDepTime, ArrTime and CRSArrTime we must bear in mind that these represent times in hour-minute format."
   ]
  },
  {
   "cell_type": "code",
   "execution_count": 73,
   "metadata": {},
   "outputs": [
    {
     "name": "stdout",
     "output_type": "stream",
     "text": [
      "Categorical variables: ['UniqueCarrier' 'TailNum' 'Origin' 'Dest' 'CancellationCode']\n"
     ]
    }
   ],
   "source": [
    "# Get the names of all categorical variables\n",
    "print(f\"Categorical variables: {df_flight_delays.select_dtypes(include=['object']).columns.values}\")"
   ]
  },
  {
   "cell_type": "markdown",
   "metadata": {},
   "source": [
    "### 3. Data Preparation\n",
    "\n",
    "Now we will examine the data in search for errors and inconsistencies and modify it as necessary to facilitate analysis.\n",
    "\n",
    "Note that the first variable (Unamed: 0) just enumerates the rows. It can be safely discarded as it provides no information useful for our analysis. We can also drop the Year variable, as all observations are of the same year (2008) in this version of the dataset."
   ]
  },
  {
   "cell_type": "code",
   "execution_count": 74,
   "metadata": {},
   "outputs": [],
   "source": [
    "# Drop the first column, which just provides enumerates the rows. The DataFrame index does so already\n",
    "df_flight_delays.drop([\"Unnamed: 0\", \"Year\"], axis=1, inplace=True)"
   ]
  },
  {
   "cell_type": "markdown",
   "metadata": {},
   "source": [
    "Now let's check for missing values. We start by counting how many we have in each variable:"
   ]
  },
  {
   "cell_type": "code",
   "execution_count": 75,
   "metadata": {},
   "outputs": [
    {
     "name": "stdout",
     "output_type": "stream",
     "text": [
      "                   # Missing  % Missing\n",
      "Month                      0   0.000000\n",
      "DayofMonth                 0   0.000000\n",
      "DayOfWeek                  0   0.000000\n",
      "DepTime                    0   0.000000\n",
      "CRSDepTime                 0   0.000000\n",
      "ArrTime                 7110   0.367108\n",
      "CRSArrTime                 0   0.000000\n",
      "UniqueCarrier              0   0.000000\n",
      "FlightNum                  0   0.000000\n",
      "TailNum                    5   0.000258\n",
      "ActualElapsedTime       8387   0.433043\n",
      "CRSElapsedTime           198   0.010223\n",
      "AirTime                 8387   0.433043\n",
      "ArrDelay                8387   0.433043\n",
      "DepDelay                   0   0.000000\n",
      "Origin                     0   0.000000\n",
      "Dest                       0   0.000000\n",
      "Distance                   0   0.000000\n",
      "TaxiIn                  7110   0.367108\n",
      "TaxiOut                  455   0.023493\n",
      "Cancelled                  0   0.000000\n",
      "CancellationCode           0   0.000000\n",
      "Diverted                   0   0.000000\n",
      "CarrierDelay          689270  35.588855\n",
      "WeatherDelay          689270  35.588855\n",
      "NASDelay              689270  35.588855\n",
      "SecurityDelay         689270  35.588855\n",
      "LateAircraftDelay     689270  35.588855\n"
     ]
    }
   ],
   "source": [
    "def build_nan_data(df):\n",
    "    \"\"\"\n",
    "    INPUT\n",
    "        df - the dataframe in which this function will count for missing values\n",
    "    OUTPUT\n",
    "        dataframe with the names of variables in df as index and two columns: count of missing values in \n",
    "        each variable and percent of missing values in each variable\n",
    "    \"\"\"\n",
    "    # Count the total missing entries per column\n",
    "    df_nan_counts = df.isna().sum()\n",
    "\n",
    "    # Compute the percentage of missing values per column\n",
    "    df_nan_percents = (df_nan_counts / df.shape[0]) * 100\n",
    "\n",
    "    return pd.DataFrame({\"# Missing\": df_nan_counts, \"% Missing\": df_nan_percents}, index=df_nan_counts.index)\n",
    "\n",
    "print(build_nan_data(df_flight_delays))"
   ]
  },
  {
   "cell_type": "markdown",
   "metadata": {},
   "source": [
    "Since several of the questions we aim at answering are concerned with the schedule of flights, the variables ArrTime, ActualElapsedTime, CRSElapsedTime, AirTime, ArrDelay, TaxiIn, TaxiOut, CarrierDelay, WeatherDelay, NASDelay, SecurityDelay and LateAircraftDelay are particularly interesting to us. Hence, we should examine why do they have missing values and handle them properly.\n",
    "\n",
    "##### 3.1 Flights with missing ArrTime\n",
    "\n",
    "Taking a look at some of the flights that have missing ArrTime values, it appears that all of them are either cancelled or diverted."
   ]
  },
  {
   "cell_type": "code",
   "execution_count": 76,
   "metadata": {},
   "outputs": [
    {
     "data": {
      "text/html": [
       "<div>\n",
       "<style scoped>\n",
       "    .dataframe tbody tr th:only-of-type {\n",
       "        vertical-align: middle;\n",
       "    }\n",
       "\n",
       "    .dataframe tbody tr th {\n",
       "        vertical-align: top;\n",
       "    }\n",
       "\n",
       "    .dataframe thead th {\n",
       "        text-align: right;\n",
       "    }\n",
       "</style>\n",
       "<table border=\"1\" class=\"dataframe\">\n",
       "  <thead>\n",
       "    <tr style=\"text-align: right;\">\n",
       "      <th></th>\n",
       "      <th>Cancelled</th>\n",
       "      <th>Diverted</th>\n",
       "    </tr>\n",
       "  </thead>\n",
       "  <tbody>\n",
       "    <tr>\n",
       "      <th>1280</th>\n",
       "      <td>0</td>\n",
       "      <td>1</td>\n",
       "    </tr>\n",
       "    <tr>\n",
       "      <th>1372</th>\n",
       "      <td>0</td>\n",
       "      <td>1</td>\n",
       "    </tr>\n",
       "    <tr>\n",
       "      <th>1776</th>\n",
       "      <td>0</td>\n",
       "      <td>1</td>\n",
       "    </tr>\n",
       "    <tr>\n",
       "      <th>1831</th>\n",
       "      <td>0</td>\n",
       "      <td>1</td>\n",
       "    </tr>\n",
       "    <tr>\n",
       "      <th>2244</th>\n",
       "      <td>0</td>\n",
       "      <td>1</td>\n",
       "    </tr>\n",
       "    <tr>\n",
       "      <th>2245</th>\n",
       "      <td>0</td>\n",
       "      <td>1</td>\n",
       "    </tr>\n",
       "    <tr>\n",
       "      <th>2720</th>\n",
       "      <td>0</td>\n",
       "      <td>1</td>\n",
       "    </tr>\n",
       "    <tr>\n",
       "      <th>2831</th>\n",
       "      <td>0</td>\n",
       "      <td>1</td>\n",
       "    </tr>\n",
       "    <tr>\n",
       "      <th>3075</th>\n",
       "      <td>0</td>\n",
       "      <td>1</td>\n",
       "    </tr>\n",
       "    <tr>\n",
       "      <th>3179</th>\n",
       "      <td>0</td>\n",
       "      <td>1</td>\n",
       "    </tr>\n",
       "  </tbody>\n",
       "</table>\n",
       "</div>"
      ],
      "text/plain": [
       "      Cancelled  Diverted\n",
       "1280          0         1\n",
       "1372          0         1\n",
       "1776          0         1\n",
       "1831          0         1\n",
       "2244          0         1\n",
       "2245          0         1\n",
       "2720          0         1\n",
       "2831          0         1\n",
       "3075          0         1\n",
       "3179          0         1"
      ]
     },
     "execution_count": 76,
     "metadata": {},
     "output_type": "execute_result"
    }
   ],
   "source": [
    "# Get flights that have ArrTime missing and print the first 5\n",
    "df_missing_arrtime = df_flight_delays[df_flight_delays[\"ArrTime\"].isna()]\n",
    "df_missing_arrtime[[\"Cancelled\", \"Diverted\"]].head(10)"
   ]
  },
  {
   "cell_type": "markdown",
   "metadata": {},
   "source": [
    "We can verify if that's really the case by counting how many of such flights are cancelled or diverted."
   ]
  },
  {
   "cell_type": "code",
   "execution_count": 77,
   "metadata": {},
   "outputs": [
    {
     "name": "stdout",
     "output_type": "stream",
     "text": [
      "Total missing ArrTime: 7110. Cancelled/Diverted: 7110\n"
     ]
    }
   ],
   "source": [
    "# Count how many of the flights missing ArrTime were also cancelled or diverted\n",
    "total_missing_arrtime_diverted_or_cancelled = sum((df_missing_arrtime[\"Cancelled\"] == 1.0) | \n",
    "                                                  (df_missing_arrtime[\"Diverted\"] == 1.0))\n",
    "\n",
    "print(f\"Total missing ArrTime: {df_missing_arrtime.shape[0]}. Cancelled/Diverted: {total_missing_arrtime_diverted_or_cancelled}\")"
   ]
  },
  {
   "cell_type": "markdown",
   "metadata": {},
   "source": [
    "This means that the dataset does not provide arrival times for flights that were cancelled or diverted. "
   ]
  },
  {
   "cell_type": "markdown",
   "metadata": {},
   "source": [
    "##### 3.2 Flights with missing ActualElapsedTime, AirTime and ArrDelay\n",
    "\n",
    "Interestingly, these three variables have the same number of missing values. This strongly suggests that if a flight is missing the value of any of these variables, it's actually missing the values of all three. We can easily verify this by comparing how many rows have all vs. any of these variables missing."
   ]
  },
  {
   "cell_type": "code",
   "execution_count": 78,
   "metadata": {},
   "outputs": [
    {
     "name": "stdout",
     "output_type": "stream",
     "text": [
      "Total missing all ActualElapsedTime, AirTime and ArrDelay: 8387. Total missing any: 8387\n"
     ]
    }
   ],
   "source": [
    "# Get rows with missing values in any of the variables ActualElapsedTime, AirTime or ArrDelay\n",
    "df_missing_any_3 = df_flight_delays[(df_flight_delays[\"ActualElapsedTime\"].isna()) |\n",
    "                                  (df_flight_delays[\"AirTime\"].isna()) |\n",
    "                                  (df_flight_delays[\"ArrDelay\"].isna()) | df_flight_delays[\"AirTime\"].isna()]\n",
    "\n",
    "# Get rows with missing values in all of the variables ActualElapsedTime, AirTime and ArrDelay\n",
    "df_missing_all_3 = df_flight_delays[(df_flight_delays[\"ActualElapsedTime\"].isna()) &\n",
    "                                  (df_flight_delays[\"AirTime\"].isna()) &\n",
    "                                  (df_flight_delays[\"ArrDelay\"].isna()) & df_flight_delays[\"AirTime\"].isna()]\n",
    "\n",
    "print(f\"Total missing all ActualElapsedTime, AirTime and ArrDelay: {df_missing_all_3.shape[0]}. Total missing any: {df_missing_any_3.shape[0]}\")"
   ]
  },
  {
   "cell_type": "markdown",
   "metadata": {},
   "source": [
    "Moreover, by inspecting the rows we see that apparently all these flights were either cancelled or diverted too. We verify this hunch by counting how many of the flights missing ActualElapsedTime, AirTime and ArrDelay were cancelled or diverted. "
   ]
  },
  {
   "cell_type": "code",
   "execution_count": 79,
   "metadata": {},
   "outputs": [
    {
     "name": "stdout",
     "output_type": "stream",
     "text": [
      "Were all flights missing ActualElapsedTime, AirTime and ArrDelay cancelled or diverted? True\n",
      "Total flights cancelled or diverted: 8387\n"
     ]
    }
   ],
   "source": [
    "# Count all flights missing the 3 variables and how many among them were either cancelled or diverted\n",
    "total_missing_3 = df_missing_any_3.shape[0]\n",
    "total_missing_3_cld_dvrt = sum((df_missing_any_3[\"Cancelled\"] == 1.0) | (df_missing_any_3[\"Diverted\"] == 1.0))\n",
    "\n",
    "# If these counts are equal, then all flights missing the 3 variables were either cancelled or diverted\n",
    "were_all_missing_3_cld_dvrt = (total_missing_3 == total_missing_3_cld_dvrt)\n",
    "\n",
    "print(f\"Were all flights missing ActualElapsedTime, AirTime and ArrDelay cancelled or diverted? {were_all_missing_3_cld_dvrt}\")\n",
    "\n",
    "# Count how many flights in total were either cancelled or diverted\n",
    "total_cld_dvrt = sum((df_flight_delays[\"Cancelled\"] == 1.0) | (df_flight_delays[\"Diverted\"] == 1.0))\n",
    "\n",
    "print(f\"Total flights cancelled or diverted: {total_cld_dvrt}\")"
   ]
  },
  {
   "cell_type": "markdown",
   "metadata": {},
   "source": [
    "From 3.1 and 3.2, we conclude that all flights that failed to bring passengers to their intended destination (i.e. flights that were either cancelled or diverted), have missing values for ActualElapsedTime, AirTime and ArrDelay. Furthermore, most of these flights (7110 out of 8387) have missing values for ArrTime. \n",
    "\n",
    "These variables are crucial for analyzing delay and duration of successful flights, but are not so useful in the analysis of failed flights. Therefore, we could split the dataset in two groups:\n",
    "\n",
    "- _Successful flights:_ not cancelled nor diverted. Brought passengers to the intended destination.\n",
    "- _Failed flights:_ cancelled or diverted. Failed to bring passenders to the intended destination.\n",
    "\n",
    "In this way, we get a dataset with no values missing for these important variables. Analyzing this dataset of successful flights separately from the dataset of failed flights is easier and less prone to errors."
   ]
  },
  {
   "cell_type": "code",
   "execution_count": 80,
   "metadata": {},
   "outputs": [
    {
     "name": "stdout",
     "output_type": "stream",
     "text": [
      "Total flights: 1936758. Successful: 1928371. Failed: 8387\n"
     ]
    }
   ],
   "source": [
    "# Split dataset in successful and failed flights \n",
    "df_success_flights = df_flight_delays[(df_flight_delays[\"Cancelled\"] == 0.0) & (df_flight_delays[\"Diverted\"] == 0.0)].copy()\n",
    "df_failed_flights = df_flight_delays[(df_flight_delays[\"Cancelled\"] == 1.0) | (df_flight_delays[\"Diverted\"] == 1.0)].copy()\n",
    "\n",
    "print(f\"Total flights: {df_flight_delays.shape[0]}. Successful: {df_success_flights.shape[0]}. Failed: {df_failed_flights.shape[0]}\")"
   ]
  },
  {
   "cell_type": "markdown",
   "metadata": {},
   "source": [
    "##### 3.3 Missing values in successful flights\n",
    "\n",
    "Let's now take a look at the missing values that remain in the dataset of successful flights."
   ]
  },
  {
   "cell_type": "code",
   "execution_count": 81,
   "metadata": {},
   "outputs": [
    {
     "name": "stdout",
     "output_type": "stream",
     "text": [
      "                   # Missing  % Missing\n",
      "Month                      0   0.000000\n",
      "DayofMonth                 0   0.000000\n",
      "DayOfWeek                  0   0.000000\n",
      "DepTime                    0   0.000000\n",
      "CRSDepTime                 0   0.000000\n",
      "ArrTime                    0   0.000000\n",
      "CRSArrTime                 0   0.000000\n",
      "UniqueCarrier              0   0.000000\n",
      "FlightNum                  0   0.000000\n",
      "TailNum                    3   0.000156\n",
      "ActualElapsedTime          0   0.000000\n",
      "CRSElapsedTime             0   0.000000\n",
      "AirTime                    0   0.000000\n",
      "ArrDelay                   0   0.000000\n",
      "DepDelay                   0   0.000000\n",
      "Origin                     0   0.000000\n",
      "Dest                       0   0.000000\n",
      "Distance                   0   0.000000\n",
      "TaxiIn                     0   0.000000\n",
      "TaxiOut                    0   0.000000\n",
      "Cancelled                  0   0.000000\n",
      "CancellationCode           0   0.000000\n",
      "Diverted                   0   0.000000\n",
      "CarrierDelay          680883  35.308714\n",
      "WeatherDelay          680883  35.308714\n",
      "NASDelay              680883  35.308714\n",
      "SecurityDelay         680883  35.308714\n",
      "LateAircraftDelay     680883  35.308714\n"
     ]
    }
   ],
   "source": [
    "print(build_nan_data(df_success_flights))"
   ]
  },
  {
   "cell_type": "markdown",
   "metadata": {},
   "source": [
    "There are just three rows with missing TailNum values. This is an insignificant number of rows relative to the size of the dataset, so we can just drop them."
   ]
  },
  {
   "cell_type": "code",
   "execution_count": 82,
   "metadata": {},
   "outputs": [],
   "source": [
    "# Drop rows having missing values for the TailNum variable\n",
    "df_success_flights.dropna(subset=[\"TailNum\"], inplace=True)"
   ]
  },
  {
   "cell_type": "markdown",
   "metadata": {},
   "source": [
    "Sadly, there are quite a lot of missing values in the categorized delay variables. Each of these variables, ArrDelay, CarrierDelay, WeatherDelay, NASDelay, SecurityDelay and LateAircraftDelay has 35.31% of their values missing. These variables provide information about the potential causes for a flight to be delayed and thus, may be very useful in our analysis. For this reason, we impute missing values in these variables as follows:\n",
    "\n",
    "- Firstly, we get all the flights having values for all the delay category variables.  "
   ]
  },
  {
   "cell_type": "code",
   "execution_count": 83,
   "metadata": {},
   "outputs": [
    {
     "name": "stdout",
     "output_type": "stream",
     "text": [
      "Total flights not missing delay information: 1247486\n"
     ]
    }
   ],
   "source": [
    "# In this part, we care only about delay-related variables\n",
    "df_all_delay_data = df_success_flights[[\"ArrDelay\", \"CarrierDelay\", \"WeatherDelay\", \"NASDelay\",\n",
    "                                        \"SecurityDelay\", \"LateAircraftDelay\"]]\n",
    "\n",
    "# Get flights that have complete information about delays\n",
    "df_flights_full_dly_data = df_all_delay_data[(df_success_flights[\"ArrDelay\"].isna() == False) &\n",
    "                                             (df_success_flights[\"CarrierDelay\"].isna() == False) &\n",
    "                                             (df_success_flights[\"WeatherDelay\"].isna() == False) &\n",
    "                                             (df_success_flights[\"NASDelay\"].isna() == False) &\n",
    "                                             (df_success_flights[\"SecurityDelay\"].isna() == False) &\n",
    "                                             (df_success_flights[\"LateAircraftDelay\"].isna() == False)]\n",
    "\n",
    "print(f\"Total flights not missing delay information: {df_flights_full_dly_data.shape[0]}\")"
   ]
  },
  {
   "cell_type": "markdown",
   "metadata": {},
   "source": [
    "- We use these rows to determine how the total of each type of delay compares to the total arrival delay of all these flights. To do so, we compute the ratio of the accumulated delays of each type to the accumulated arrival delay. The resulting ratios can be used as weights, to split an arrival delay among these five types."
   ]
  },
  {
   "cell_type": "code",
   "execution_count": 84,
   "metadata": {},
   "outputs": [],
   "source": [
    "# Accumulate delays of each type and arrival delays for all flights with full delay information\n",
    "df_delay_totals = df_flights_full_dly_data.sum()\n",
    "\n",
    "# For the totals of each type of delay, compute the ratio to the total arrival delay\n",
    "df_dly_weights = df_delay_totals / df_delay_totals[\"ArrDelay\"]"
   ]
  },
  {
   "cell_type": "markdown",
   "metadata": {},
   "source": [
    "- Finally, we use these weights to impute the delays of each category, based on the arrival delay. We do so for flights missing values for the delay category variables."
   ]
  },
  {
   "cell_type": "code",
   "execution_count": 85,
   "metadata": {},
   "outputs": [
    {
     "name": "stdout",
     "output_type": "stream",
     "text": [
      "                   # Missing  % Missing\n",
      "Month                      0        0.0\n",
      "DayofMonth                 0        0.0\n",
      "DayOfWeek                  0        0.0\n",
      "DepTime                    0        0.0\n",
      "CRSDepTime                 0        0.0\n",
      "ArrTime                    0        0.0\n",
      "CRSArrTime                 0        0.0\n",
      "UniqueCarrier              0        0.0\n",
      "FlightNum                  0        0.0\n",
      "TailNum                    0        0.0\n",
      "ActualElapsedTime          0        0.0\n",
      "CRSElapsedTime             0        0.0\n",
      "AirTime                    0        0.0\n",
      "ArrDelay                   0        0.0\n",
      "DepDelay                   0        0.0\n",
      "Origin                     0        0.0\n",
      "Dest                       0        0.0\n",
      "Distance                   0        0.0\n",
      "TaxiIn                     0        0.0\n",
      "TaxiOut                    0        0.0\n",
      "Cancelled                  0        0.0\n",
      "CancellationCode           0        0.0\n",
      "Diverted                   0        0.0\n",
      "CarrierDelay               0        0.0\n",
      "WeatherDelay               0        0.0\n",
      "NASDelay                   0        0.0\n",
      "SecurityDelay              0        0.0\n",
      "LateAircraftDelay          0        0.0\n"
     ]
    }
   ],
   "source": [
    "# Impute missing values for each delay category variable, by splitting up the arrival delay as to the weights\n",
    "for var in [\"CarrierDelay\", \"WeatherDelay\", \"NASDelay\", \"SecurityDelay\", \"LateAircraftDelay\"]:\n",
    "    df_success_flights[var].fillna(df_success_flights[\"ArrDelay\"] * df_dly_weights[var], inplace=True)\n",
    "\n",
    "# Check that there are no missing values left\n",
    "print(build_nan_data(df_success_flights))"
   ]
  },
  {
   "cell_type": "markdown",
   "metadata": {},
   "source": [
    "We have cleared all missing values from the dataset of successful flights!"
   ]
  },
  {
   "cell_type": "markdown",
   "metadata": {},
   "source": [
    "##### 3.4 Missing values in failed flights\n",
    "\n",
    "Regarding failed flights, we can simply drop all columns related to duration and performance, as these only make sense for flights that took off and arrived at their destination. \n",
    "\n",
    "There are also some missing values in variables that may be useful for analyzing failed flights: TailNum and CRSElapsedTime. Since only 0.02% and 2.36% of the failed flights have missing values for these two variables, we can just drop the rows. "
   ]
  },
  {
   "cell_type": "code",
   "execution_count": 86,
   "metadata": {},
   "outputs": [
    {
     "name": "stdout",
     "output_type": "stream",
     "text": [
      "                   # Missing   % Missing\n",
      "Month                      0    0.000000\n",
      "DayofMonth                 0    0.000000\n",
      "DayOfWeek                  0    0.000000\n",
      "DepTime                    0    0.000000\n",
      "CRSDepTime                 0    0.000000\n",
      "ArrTime                 7110   84.774055\n",
      "CRSArrTime                 0    0.000000\n",
      "UniqueCarrier              0    0.000000\n",
      "FlightNum                  0    0.000000\n",
      "TailNum                    2    0.023846\n",
      "ActualElapsedTime       8387  100.000000\n",
      "CRSElapsedTime           198    2.360796\n",
      "AirTime                 8387  100.000000\n",
      "ArrDelay                8387  100.000000\n",
      "DepDelay                   0    0.000000\n",
      "Origin                     0    0.000000\n",
      "Dest                       0    0.000000\n",
      "Distance                   0    0.000000\n",
      "TaxiIn                  7110   84.774055\n",
      "TaxiOut                  455    5.425063\n",
      "Cancelled                  0    0.000000\n",
      "CancellationCode           0    0.000000\n",
      "Diverted                   0    0.000000\n",
      "CarrierDelay            8387  100.000000\n",
      "WeatherDelay            8387  100.000000\n",
      "NASDelay                8387  100.000000\n",
      "SecurityDelay           8387  100.000000\n",
      "LateAircraftDelay       8387  100.000000\n"
     ]
    }
   ],
   "source": [
    "# Check for missing values in the dataset of failed flights\n",
    "print(build_nan_data(df_failed_flights))"
   ]
  },
  {
   "cell_type": "code",
   "execution_count": 87,
   "metadata": {},
   "outputs": [
    {
     "name": "stdout",
     "output_type": "stream",
     "text": [
      "                  # Missing  % Missing\n",
      "Month                     0        0.0\n",
      "DayofMonth                0        0.0\n",
      "DayOfWeek                 0        0.0\n",
      "DepTime                   0        0.0\n",
      "CRSDepTime                0        0.0\n",
      "CRSArrTime                0        0.0\n",
      "UniqueCarrier             0        0.0\n",
      "FlightNum                 0        0.0\n",
      "TailNum                   0        0.0\n",
      "CRSElapsedTime            0        0.0\n",
      "DepDelay                  0        0.0\n",
      "Origin                    0        0.0\n",
      "Dest                      0        0.0\n",
      "Distance                  0        0.0\n",
      "Cancelled                 0        0.0\n",
      "CancellationCode          0        0.0\n",
      "Diverted                  0        0.0\n"
     ]
    }
   ],
   "source": [
    "# Drop columns missing values \n",
    "df_failed_flights.drop(columns=[\"ArrTime\", \"ActualElapsedTime\", \"AirTime\", \"ArrDelay\", \"TaxiIn\", \n",
    "                                \"TaxiOut\", \"CarrierDelay\", \"WeatherDelay\", \"NASDelay\", \n",
    "                                \"SecurityDelay\", \"LateAircraftDelay\"], inplace=True)\n",
    "\n",
    "# Drop rows missing TailNum or CRSElapsedTime\n",
    "df_failed_flights.dropna(subset=[\"TailNum\", \"CRSElapsedTime\"], inplace=True)\n",
    "\n",
    "# Check that there are no missing values left\n",
    "print(build_nan_data(df_failed_flights))"
   ]
  },
  {
   "cell_type": "markdown",
   "metadata": {},
   "source": [
    "Now the dataset of failed flights is clear of missing values too!"
   ]
  },
  {
   "cell_type": "markdown",
   "metadata": {},
   "source": [
    "### 4. Modeling"
   ]
  }
 ],
 "metadata": {
  "kernelspec": {
   "display_name": "Python 3",
   "language": "python",
   "name": "python3"
  },
  "language_info": {
   "codemirror_mode": {
    "name": "ipython",
    "version": 3
   },
   "file_extension": ".py",
   "mimetype": "text/x-python",
   "name": "python",
   "nbconvert_exporter": "python",
   "pygments_lexer": "ipython3",
   "version": "3.7.3"
  }
 },
 "nbformat": 4,
 "nbformat_minor": 2
}
