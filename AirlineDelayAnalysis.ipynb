{
 "cells": [
  {
   "cell_type": "markdown",
   "metadata": {},
   "source": [
    "### 1. Business Understanding\n",
    "\n",
    "The dataset we will analyze here, consists of information about domestic flights operated by large airlines in the U.S. throughout 2008. It provides details about the schedule and delays of each flight. The data was originally  compiled and made available to the public by the Bureau of Transportation Statistics, but the version we will use here was obtained from Kaggle, at: \n",
    "\n",
    "[https://www.kaggle.com/giovamata/airlinedelaycauses](https://www.kaggle.com/giovamata/airlinedelaycauses)\n",
    "\n",
    "Each record provides details about a specific flight, such as its number, origin, destination, airline, scheduled timeline and actual timeline. Information about delays (deviations from the scheduled timeline) is particularly intersting, as it provides us with the opportunity to analyze how delays are related to other factors and how much are domestic flights affected. The results will hopefully provide insights useful to passengers.\n",
    "\n",
    "In view of the information at hand, we could consider digging for answers to the following questions:\n",
    "\n",
    "- What are the major causes of delays and cancellations affecting domestic flights in the U.S.?\n",
    "\n",
    "\n",
    "- Which are the best and the worst carriers (airlines) regarding delays and cancellations? Which are the carriers with the less/most cancellations and the shortest/longest delays?\n",
    "\n",
    "\n",
    "- Can we identify periods of the year 2008 when delays were particularly long? For instance, days of the week or months of the year.\n",
    "\n",
    "\n",
    "- Are there any combinations of variables that appear to determine the expected delay time or probability of cancellation of a flight?\n",
    "\n",
    "\n",
    "- Could we estimate the probability of a flight being cancelled based on some of the variables?\n",
    "\n",
    "The answers we arrive at will hopefully help passengers make more informed decisions in their travels and avoid the inconveniences of getting into a delayed flight. "
   ]
  },
  {
   "cell_type": "markdown",
   "metadata": {},
   "source": [
    "### 2. Data Understanding"
   ]
  },
  {
   "cell_type": "markdown",
   "metadata": {},
   "source": [
    "By invoking the info function on the DataFrame, we see that it contains 1936758 records and 30 variables:"
   ]
  },
  {
   "cell_type": "code",
   "execution_count": 59,
   "metadata": {},
   "outputs": [
    {
     "name": "stdout",
     "output_type": "stream",
     "text": [
      "Airline Delays. Records: 1936758, variables: 30\n",
      "<class 'pandas.core.frame.DataFrame'>\n",
      "RangeIndex: 1936758 entries, 0 to 1936757\n",
      "Data columns (total 30 columns):\n",
      "Unnamed: 0           int64\n",
      "Year                 int64\n",
      "Month                int64\n",
      "DayofMonth           int64\n",
      "DayOfWeek            int64\n",
      "DepTime              float64\n",
      "CRSDepTime           int64\n",
      "ArrTime              float64\n",
      "CRSArrTime           int64\n",
      "UniqueCarrier        object\n",
      "FlightNum            int64\n",
      "TailNum              object\n",
      "ActualElapsedTime    float64\n",
      "CRSElapsedTime       float64\n",
      "AirTime              float64\n",
      "ArrDelay             float64\n",
      "DepDelay             float64\n",
      "Origin               object\n",
      "Dest                 object\n",
      "Distance             int64\n",
      "TaxiIn               float64\n",
      "TaxiOut              float64\n",
      "Cancelled            int64\n",
      "CancellationCode     object\n",
      "Diverted             int64\n",
      "CarrierDelay         float64\n",
      "WeatherDelay         float64\n",
      "NASDelay             float64\n",
      "SecurityDelay        float64\n",
      "LateAircraftDelay    float64\n",
      "dtypes: float64(14), int64(11), object(5)\n",
      "memory usage: 443.3+ MB\n"
     ]
    }
   ],
   "source": [
    "import numpy as np\n",
    "import pandas as pd\n",
    "import matplotlib.pyplot as plt\n",
    "%matplotlib inline\n",
    "\n",
    "df_flight_delays = pd.read_csv(\"datasets/DelayedFlights.csv\")\n",
    "\n",
    "print(f\"Airline Delays. Records: {df_flight_delays.shape[0]}, variables: {df_flight_delays.shape[1]}\")\n",
    "\n",
    "# Get the size of the dataset, list of the variables with their types\n",
    "df_flight_delays.info()"
   ]
  },
  {
   "cell_type": "markdown",
   "metadata": {},
   "source": [
    "The following table provides a description and the type of each variable:\n",
    "\n",
    "Number | Name | Description | Type\n",
    ":------: | :---- | :---- | :----\n",
    "1 | (Unamed) | Sequential record number | Numerical, integer\n",
    "2 | Year | 2008 | Numerical, integer\n",
    "3 | Month | Month number (1=January - 12=December) | Numerical, integer\n",
    "4 | DayofMonth | Day number of the month (1 - 31) | Numerical, integer\n",
    "5 | DayOfWeek | Day number of the week (1=Monday - 7=Sunday) | Numerical, integer\n",
    "6 | DepTime | Actual departure time (local, hhmm) | Numerical, integer\n",
    "7 | CRSDepTime | Scheduled departure time (local, hhmm) | Numerical, integer\n",
    "8 | ArrTime | Actual arrival time (local, hhmm) | Numerical, integer\n",
    "9 | CRSArrTime | Scheduled arrival time (local, hhmm) | Numerical, integer\n",
    "10 | UniqueCarrier | Unique carrier code | Categorical, string\n",
    "11 | FlightNum | Flight number | Numerical, integer\n",
    "12 | TailNum | Plane tail number | Categorical, string\n",
    "13 | ActualElapsedTime | Actual total flight time, in minutes | Numerical, decimal\n",
    "14 | CRSElapsedTime | Total flight time estimated by the carrier, in minutes | Numerical, decimal\n",
    "15 | AirTime | Time in the air, in minutes | Numerical, decimal\n",
    "16 | ArrDelay | Delay to arrive at the destination airport, in minutes | Numerical, decimal\n",
    "17 | DepDelay | Delay to depart from the origin airport, in minutes | Numerical, decimal\n",
    "18 | Origin | Origin IATA airport code | Categorical, string\n",
    "19 | Dest | Destination IATA airport code | Categorical, string\n",
    "20 | Distance | Travel in miles | Numerical, integer\n",
    "21 | TaxiIn | Taxi in time (time to roll from the terminal to the runway), in minutes | Numerical, decimal\n",
    "22 | TaxiOut | Taxi out time (time to roll from the runway to the terminal) in minutes | Numerical, decimal\n",
    "23 | Cancelled | Was the flight cancelled? | Numerical, boolean\n",
    "24 | CancellationCode | Reason why flight was cancelled (A=carrier, B=weather, C=NAS, D=security) | Categorical, string\n",
    "25 | Diverted | Was the flight diverted to another destination? (1=yes, 0=no) | Numerical, integer\n",
    "26 | CarrierDelay | Delay caused by the carrier, in minutes | Numerical, decimal\n",
    "27 | WeatherDelay | Delay caused by the weather, in minutes | Numerical, decimal\n",
    "28 | NASDelay | Delay caused by the NAS (National Airspace System), in minutes | Numerical, decimal\n",
    "29 | SecurityDelay | Delay caused by security issues, in minutes | Numerical, decimal\n",
    "30 | LateAircraftDelay | Delay caused by the aircraft arriving late, in minutes | Numerical, decimal\n",
    "\n",
    "There are five categorical variables: UniqueCarrier, TailNum, Origin, Dest and CancellationCode. The rest are all numerical. However, when performing operations on DepTime, CRSDepTime, ArrTime and CRSArrTime we must bear in mind that these represent times in hour-minute format."
   ]
  },
  {
   "cell_type": "code",
   "execution_count": 63,
   "metadata": {},
   "outputs": [
    {
     "name": "stdout",
     "output_type": "stream",
     "text": [
      "Categorical variables: ['UniqueCarrier' 'TailNum' 'Origin' 'Dest' 'CancellationCode']\n"
     ]
    }
   ],
   "source": [
    "# Get the names of all categorical variables\n",
    "print(f\"Categorical variables: {df_flight_delays.select_dtypes(include=['object']).columns.values}\")"
   ]
  },
  {
   "cell_type": "markdown",
   "metadata": {},
   "source": [
    "### 3. Data Preparation\n",
    "\n",
    "Now we will examine the data in search for errors and inconsistencies and modify it as necessary to facilitate analysis.\n",
    "\n",
    "Note that the first variable (Unamed: 0) just enumerates the rows. It can be safely discarded as it provides no information useful for our analysis. We can also drop the Year variable, as all observations are of the same year (2008) in this version of the dataset."
   ]
  },
  {
   "cell_type": "code",
   "execution_count": 61,
   "metadata": {},
   "outputs": [],
   "source": [
    "# Drop the first column, which just provides enumerates the rows. The DataFrame index does so already\n",
    "df_flight_delays.drop([\"Unnamed: 0\", \"Year\"], axis=1, inplace=True)"
   ]
  },
  {
   "cell_type": "markdown",
   "metadata": {},
   "source": [
    "Now let's check for missing values. We start by counting how many we have in each variable:"
   ]
  },
  {
   "cell_type": "code",
   "execution_count": 62,
   "metadata": {},
   "outputs": [
    {
     "name": "stdout",
     "output_type": "stream",
     "text": [
      "                   CountMissing  PercentMissing\n",
      "Month                         0        0.000000\n",
      "DayofMonth                    0        0.000000\n",
      "DayOfWeek                     0        0.000000\n",
      "DepTime                       0        0.000000\n",
      "CRSDepTime                    0        0.000000\n",
      "ArrTime                    7110        0.367108\n",
      "CRSArrTime                    0        0.000000\n",
      "UniqueCarrier                 0        0.000000\n",
      "FlightNum                     0        0.000000\n",
      "TailNum                       5        0.000258\n",
      "ActualElapsedTime          8387        0.433043\n",
      "CRSElapsedTime              198        0.010223\n",
      "AirTime                    8387        0.433043\n",
      "ArrDelay                   8387        0.433043\n",
      "DepDelay                      0        0.000000\n",
      "Origin                        0        0.000000\n",
      "Dest                          0        0.000000\n",
      "Distance                      0        0.000000\n",
      "TaxiIn                     7110        0.367108\n",
      "TaxiOut                     455        0.023493\n",
      "Cancelled                     0        0.000000\n",
      "CancellationCode              0        0.000000\n",
      "Diverted                      0        0.000000\n",
      "CarrierDelay             689270       35.588855\n",
      "WeatherDelay             689270       35.588855\n",
      "NASDelay                 689270       35.588855\n",
      "SecurityDelay            689270       35.588855\n",
      "LateAircraftDelay        689270       35.588855\n"
     ]
    }
   ],
   "source": [
    "# Count the total missing entries per column\n",
    "df_nan_counts = df_flight_delays.isna().sum()\n",
    "\n",
    "# Compute the percentage of missing values per column\n",
    "df_nan_percents = (df_nan_counts / df_flight_delays.shape[0]) * 100\n",
    "\n",
    "df_nan_data = pd.DataFrame({\"CountMissing\": df_nan_counts, \"PercentMissing\": df_nan_percents}, \n",
    "                           index=df_nan_counts.index)\n",
    "\n",
    "print(df_nan_data)"
   ]
  },
  {
   "cell_type": "markdown",
   "metadata": {},
   "source": [
    "Since several of the questions we aim at answering are concerned with the schedule of flights, the variables ArrTime, ActualElapsedTime, CRSElapsedTime, AirTime, ArrDelay, TaxiIn, TaxiOut, CarrierDelay, WeatherDelay, NASDelay, SecurityDelay and LateAircraftDelay are particularly interesting to us. Hence, we should examine why do they have missing values and handle them properly.\n",
    "\n",
    "**Flights with missing ArrTime**\n",
    "\n",
    "Taking a look at some of the flights that have missing ArrTime values, it appears that all of them are either cancelled or diverted."
   ]
  },
  {
   "cell_type": "code",
   "execution_count": 68,
   "metadata": {},
   "outputs": [
    {
     "data": {
      "text/html": [
       "<div>\n",
       "<style scoped>\n",
       "    .dataframe tbody tr th:only-of-type {\n",
       "        vertical-align: middle;\n",
       "    }\n",
       "\n",
       "    .dataframe tbody tr th {\n",
       "        vertical-align: top;\n",
       "    }\n",
       "\n",
       "    .dataframe thead th {\n",
       "        text-align: right;\n",
       "    }\n",
       "</style>\n",
       "<table border=\"1\" class=\"dataframe\">\n",
       "  <thead>\n",
       "    <tr style=\"text-align: right;\">\n",
       "      <th></th>\n",
       "      <th>Cancelled</th>\n",
       "      <th>Diverted</th>\n",
       "    </tr>\n",
       "  </thead>\n",
       "  <tbody>\n",
       "    <tr>\n",
       "      <th>1280</th>\n",
       "      <td>0</td>\n",
       "      <td>1</td>\n",
       "    </tr>\n",
       "    <tr>\n",
       "      <th>1372</th>\n",
       "      <td>0</td>\n",
       "      <td>1</td>\n",
       "    </tr>\n",
       "    <tr>\n",
       "      <th>1776</th>\n",
       "      <td>0</td>\n",
       "      <td>1</td>\n",
       "    </tr>\n",
       "    <tr>\n",
       "      <th>1831</th>\n",
       "      <td>0</td>\n",
       "      <td>1</td>\n",
       "    </tr>\n",
       "    <tr>\n",
       "      <th>2244</th>\n",
       "      <td>0</td>\n",
       "      <td>1</td>\n",
       "    </tr>\n",
       "  </tbody>\n",
       "</table>\n",
       "</div>"
      ],
      "text/plain": [
       "      Cancelled  Diverted\n",
       "1280          0         1\n",
       "1372          0         1\n",
       "1776          0         1\n",
       "1831          0         1\n",
       "2244          0         1"
      ]
     },
     "execution_count": 68,
     "metadata": {},
     "output_type": "execute_result"
    }
   ],
   "source": [
    "# Get flights that have ArrTime missing and print the first 5\n",
    "df_missing_arrtime = df_flight_delays[df_flight_delays[\"ArrTime\"].isna()]\n",
    "df_missing_arrtime[[\"Cancelled\", \"Diverted\"]].head()"
   ]
  },
  {
   "cell_type": "markdown",
   "metadata": {},
   "source": [
    "We can verify if that's really the case by counting how many of such flights are cancelled or diverted."
   ]
  },
  {
   "cell_type": "code",
   "execution_count": 74,
   "metadata": {},
   "outputs": [
    {
     "name": "stdout",
     "output_type": "stream",
     "text": [
      "Total missing ArrTime: 7110. Cancelled/Diverted: 7110\n"
     ]
    }
   ],
   "source": [
    "# Count how many of the flights missing ArrTime were also cancelled or diverted\n",
    "total_missing_arrtime_diverted_or_cancelled = sum((df_missing_arrtime[\"Cancelled\"] == 1.0) | \n",
    "                                                  (df_missing_arrtime[\"Diverted\"] == 1.0))\n",
    "\n",
    "print(f\"Total missing ArrTime: {df_missing_arrtime.shape[0]}. Cancelled/Diverted: {total_missing_arrtime_diverted_or_cancelled}\")"
   ]
  },
  {
   "cell_type": "markdown",
   "metadata": {},
   "source": [
    "This means that the dataset does not provide arrival times for flights that were cancelled or diverted. "
   ]
  },
  {
   "cell_type": "markdown",
   "metadata": {},
   "source": [
    "**Flights with missing ActualElapsedTime, AirTime and ArrDelay**\n",
    "\n",
    "Interestingly, these three variables have the same number of missing values. This strongly suggests that if a flight is missing the value of any of these variables, it's actually missing the values of all three. We can easily verify this by comparing how many rows have all vs. any of these variables missing."
   ]
  },
  {
   "cell_type": "code",
   "execution_count": 81,
   "metadata": {},
   "outputs": [
    {
     "name": "stdout",
     "output_type": "stream",
     "text": [
      "Total missing all ActualElapsedTime, AirTime and ArrDelay: 8387. Total missing any: 8387\n"
     ]
    }
   ],
   "source": [
    "# Get rows with missing values in any of the variables ActualElapsedTime, AirTime or ArrDelay\n",
    "df_missing_any_3 = df_flight_delays[(df_flight_delays[\"ActualElapsedTime\"].isna()) |\n",
    "                                  (df_flight_delays[\"AirTime\"].isna()) |\n",
    "                                  (df_flight_delays[\"ArrDelay\"].isna()) | df_flight_delays[\"AirTime\"].isna()]\n",
    "\n",
    "# Get rows with missing values in all of the variables ActualElapsedTime, AirTime and ArrDelay\n",
    "df_missing_all_3 = df_flight_delays[(df_flight_delays[\"ActualElapsedTime\"].isna()) &\n",
    "                                  (df_flight_delays[\"AirTime\"].isna()) &\n",
    "                                  (df_flight_delays[\"ArrDelay\"].isna()) & df_flight_delays[\"AirTime\"].isna()]\n",
    "\n",
    "print(f\"Total missing all ActualElapsedTime, AirTime and ArrDelay: {df_missing_all_3.shape[0]}. Total missing any: {df_missing_any_3.shape[0]}\")"
   ]
  },
  {
   "cell_type": "markdown",
   "metadata": {},
   "source": [
    "Moreover, inspecting the rows we see that apparently all these flights were either cancelled or diverted too."
   ]
  },
  {
   "cell_type": "code",
   "execution_count": 83,
   "metadata": {},
   "outputs": [
    {
     "data": {
      "text/html": [
       "<div>\n",
       "<style scoped>\n",
       "    .dataframe tbody tr th:only-of-type {\n",
       "        vertical-align: middle;\n",
       "    }\n",
       "\n",
       "    .dataframe tbody tr th {\n",
       "        vertical-align: top;\n",
       "    }\n",
       "\n",
       "    .dataframe thead th {\n",
       "        text-align: right;\n",
       "    }\n",
       "</style>\n",
       "<table border=\"1\" class=\"dataframe\">\n",
       "  <thead>\n",
       "    <tr style=\"text-align: right;\">\n",
       "      <th></th>\n",
       "      <th>Cancelled</th>\n",
       "      <th>Diverted</th>\n",
       "    </tr>\n",
       "  </thead>\n",
       "  <tbody>\n",
       "    <tr>\n",
       "      <th>1280</th>\n",
       "      <td>0</td>\n",
       "      <td>1</td>\n",
       "    </tr>\n",
       "    <tr>\n",
       "      <th>1372</th>\n",
       "      <td>0</td>\n",
       "      <td>1</td>\n",
       "    </tr>\n",
       "    <tr>\n",
       "      <th>1776</th>\n",
       "      <td>0</td>\n",
       "      <td>1</td>\n",
       "    </tr>\n",
       "    <tr>\n",
       "      <th>1831</th>\n",
       "      <td>0</td>\n",
       "      <td>1</td>\n",
       "    </tr>\n",
       "    <tr>\n",
       "      <th>2244</th>\n",
       "      <td>0</td>\n",
       "      <td>1</td>\n",
       "    </tr>\n",
       "  </tbody>\n",
       "</table>\n",
       "</div>"
      ],
      "text/plain": [
       "      Cancelled  Diverted\n",
       "1280          0         1\n",
       "1372          0         1\n",
       "1776          0         1\n",
       "1831          0         1\n",
       "2244          0         1"
      ]
     },
     "execution_count": 83,
     "metadata": {},
     "output_type": "execute_result"
    }
   ],
   "source": [
    "df_missing_any[[\"Cancelled\", \"Diverted\"]].head()"
   ]
  },
  {
   "cell_type": "code",
   "execution_count": 23,
   "metadata": {},
   "outputs": [
    {
     "data": {
      "text/html": [
       "<div>\n",
       "<style scoped>\n",
       "    .dataframe tbody tr th:only-of-type {\n",
       "        vertical-align: middle;\n",
       "    }\n",
       "\n",
       "    .dataframe tbody tr th {\n",
       "        vertical-align: top;\n",
       "    }\n",
       "\n",
       "    .dataframe thead th {\n",
       "        text-align: right;\n",
       "    }\n",
       "</style>\n",
       "<table border=\"1\" class=\"dataframe\">\n",
       "  <thead>\n",
       "    <tr style=\"text-align: right;\">\n",
       "      <th></th>\n",
       "      <th>Unnamed: 0</th>\n",
       "      <th>Year</th>\n",
       "      <th>Month</th>\n",
       "      <th>DayofMonth</th>\n",
       "      <th>DayOfWeek</th>\n",
       "      <th>DepTime</th>\n",
       "      <th>CRSDepTime</th>\n",
       "      <th>ArrTime</th>\n",
       "      <th>CRSArrTime</th>\n",
       "      <th>UniqueCarrier</th>\n",
       "      <th>...</th>\n",
       "      <th>TaxiIn</th>\n",
       "      <th>TaxiOut</th>\n",
       "      <th>Cancelled</th>\n",
       "      <th>CancellationCode</th>\n",
       "      <th>Diverted</th>\n",
       "      <th>CarrierDelay</th>\n",
       "      <th>WeatherDelay</th>\n",
       "      <th>NASDelay</th>\n",
       "      <th>SecurityDelay</th>\n",
       "      <th>LateAircraftDelay</th>\n",
       "    </tr>\n",
       "  </thead>\n",
       "  <tbody>\n",
       "    <tr>\n",
       "      <th>0</th>\n",
       "      <td>0</td>\n",
       "      <td>2008</td>\n",
       "      <td>1</td>\n",
       "      <td>3</td>\n",
       "      <td>4</td>\n",
       "      <td>2003.0</td>\n",
       "      <td>1955</td>\n",
       "      <td>2211.0</td>\n",
       "      <td>2225</td>\n",
       "      <td>WN</td>\n",
       "      <td>...</td>\n",
       "      <td>4.0</td>\n",
       "      <td>8.0</td>\n",
       "      <td>0</td>\n",
       "      <td>N</td>\n",
       "      <td>0</td>\n",
       "      <td>NaN</td>\n",
       "      <td>NaN</td>\n",
       "      <td>NaN</td>\n",
       "      <td>NaN</td>\n",
       "      <td>NaN</td>\n",
       "    </tr>\n",
       "    <tr>\n",
       "      <th>1</th>\n",
       "      <td>1</td>\n",
       "      <td>2008</td>\n",
       "      <td>1</td>\n",
       "      <td>3</td>\n",
       "      <td>4</td>\n",
       "      <td>754.0</td>\n",
       "      <td>735</td>\n",
       "      <td>1002.0</td>\n",
       "      <td>1000</td>\n",
       "      <td>WN</td>\n",
       "      <td>...</td>\n",
       "      <td>5.0</td>\n",
       "      <td>10.0</td>\n",
       "      <td>0</td>\n",
       "      <td>N</td>\n",
       "      <td>0</td>\n",
       "      <td>NaN</td>\n",
       "      <td>NaN</td>\n",
       "      <td>NaN</td>\n",
       "      <td>NaN</td>\n",
       "      <td>NaN</td>\n",
       "    </tr>\n",
       "    <tr>\n",
       "      <th>2</th>\n",
       "      <td>2</td>\n",
       "      <td>2008</td>\n",
       "      <td>1</td>\n",
       "      <td>3</td>\n",
       "      <td>4</td>\n",
       "      <td>628.0</td>\n",
       "      <td>620</td>\n",
       "      <td>804.0</td>\n",
       "      <td>750</td>\n",
       "      <td>WN</td>\n",
       "      <td>...</td>\n",
       "      <td>3.0</td>\n",
       "      <td>17.0</td>\n",
       "      <td>0</td>\n",
       "      <td>N</td>\n",
       "      <td>0</td>\n",
       "      <td>NaN</td>\n",
       "      <td>NaN</td>\n",
       "      <td>NaN</td>\n",
       "      <td>NaN</td>\n",
       "      <td>NaN</td>\n",
       "    </tr>\n",
       "    <tr>\n",
       "      <th>4</th>\n",
       "      <td>5</td>\n",
       "      <td>2008</td>\n",
       "      <td>1</td>\n",
       "      <td>3</td>\n",
       "      <td>4</td>\n",
       "      <td>1940.0</td>\n",
       "      <td>1915</td>\n",
       "      <td>2121.0</td>\n",
       "      <td>2110</td>\n",
       "      <td>WN</td>\n",
       "      <td>...</td>\n",
       "      <td>4.0</td>\n",
       "      <td>10.0</td>\n",
       "      <td>0</td>\n",
       "      <td>N</td>\n",
       "      <td>0</td>\n",
       "      <td>NaN</td>\n",
       "      <td>NaN</td>\n",
       "      <td>NaN</td>\n",
       "      <td>NaN</td>\n",
       "      <td>NaN</td>\n",
       "    </tr>\n",
       "    <tr>\n",
       "      <th>6</th>\n",
       "      <td>10</td>\n",
       "      <td>2008</td>\n",
       "      <td>1</td>\n",
       "      <td>3</td>\n",
       "      <td>4</td>\n",
       "      <td>706.0</td>\n",
       "      <td>700</td>\n",
       "      <td>916.0</td>\n",
       "      <td>915</td>\n",
       "      <td>WN</td>\n",
       "      <td>...</td>\n",
       "      <td>5.0</td>\n",
       "      <td>19.0</td>\n",
       "      <td>0</td>\n",
       "      <td>N</td>\n",
       "      <td>0</td>\n",
       "      <td>NaN</td>\n",
       "      <td>NaN</td>\n",
       "      <td>NaN</td>\n",
       "      <td>NaN</td>\n",
       "      <td>NaN</td>\n",
       "    </tr>\n",
       "  </tbody>\n",
       "</table>\n",
       "<p>5 rows × 30 columns</p>\n",
       "</div>"
      ],
      "text/plain": [
       "   Unnamed: 0  Year  Month  DayofMonth  DayOfWeek  DepTime  CRSDepTime  \\\n",
       "0           0  2008      1           3          4   2003.0        1955   \n",
       "1           1  2008      1           3          4    754.0         735   \n",
       "2           2  2008      1           3          4    628.0         620   \n",
       "4           5  2008      1           3          4   1940.0        1915   \n",
       "6          10  2008      1           3          4    706.0         700   \n",
       "\n",
       "   ArrTime  CRSArrTime UniqueCarrier  ...  TaxiIn TaxiOut  Cancelled  \\\n",
       "0   2211.0        2225            WN  ...     4.0     8.0          0   \n",
       "1   1002.0        1000            WN  ...     5.0    10.0          0   \n",
       "2    804.0         750            WN  ...     3.0    17.0          0   \n",
       "4   2121.0        2110            WN  ...     4.0    10.0          0   \n",
       "6    916.0         915            WN  ...     5.0    19.0          0   \n",
       "\n",
       "   CancellationCode  Diverted  CarrierDelay  WeatherDelay NASDelay  \\\n",
       "0                 N         0           NaN           NaN      NaN   \n",
       "1                 N         0           NaN           NaN      NaN   \n",
       "2                 N         0           NaN           NaN      NaN   \n",
       "4                 N         0           NaN           NaN      NaN   \n",
       "6                 N         0           NaN           NaN      NaN   \n",
       "\n",
       "  SecurityDelay  LateAircraftDelay  \n",
       "0           NaN                NaN  \n",
       "1           NaN                NaN  \n",
       "2           NaN                NaN  \n",
       "4           NaN                NaN  \n",
       "6           NaN                NaN  \n",
       "\n",
       "[5 rows x 30 columns]"
      ]
     },
     "execution_count": 23,
     "metadata": {},
     "output_type": "execute_result"
    }
   ],
   "source": [
    "df_all_dly_details_na = df_flight_delays[df_flight_delays[\"CarrierDelay\"].isna() &\n",
    "                                         df_flight_delays[\"WeatherDelay\"].isna() & df_flight_delays[\"NASDelay\"].isna() &\n",
    "                                         df_flight_delays[\"SecurityDelay\"].isna() &\n",
    "                                         df_flight_delays[\"LateAircraftDelay\"].isna()]\n",
    "\n",
    "df_all_dly_details_na.head()"
   ]
  }
 ],
 "metadata": {
  "kernelspec": {
   "display_name": "Python 3",
   "language": "python",
   "name": "python3"
  },
  "language_info": {
   "codemirror_mode": {
    "name": "ipython",
    "version": 3
   },
   "file_extension": ".py",
   "mimetype": "text/x-python",
   "name": "python",
   "nbconvert_exporter": "python",
   "pygments_lexer": "ipython3",
   "version": "3.7.3"
  }
 },
 "nbformat": 4,
 "nbformat_minor": 2
}
